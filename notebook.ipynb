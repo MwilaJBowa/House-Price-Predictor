{
  "cells": [
    {
      "cell_type": "code",
      "execution_count": null,
      "metadata": {
        "id": "AF7SCshBkFMq",
        "colab": {
          "base_uri": "https://localhost:8080/"
        },
        "outputId": "6a6d12ba-4ebb-43e7-ce6f-3ae788252c75"
      },
      "outputs": [
        {
          "output_type": "stream",
          "name": "stdout",
          "text": [
            "Mounted at /content/drive\n"
          ]
        }
      ],
      "source": [
        "from google.colab import drive\n",
        "drive.mount('/content/drive')\n"
      ]
    },
    {
      "cell_type": "markdown",
      "source": [
        "For the first part of the project which is the exploratory data analysis we will utilise the pandas library, which is an open source and easy to use exploratory data analysis tool created on top of the python programming language.It is imported via the statement bellow:\n"
      ],
      "metadata": {
        "id": "b7c8e7aWjQsk"
      }
    },
    {
      "cell_type": "code",
      "execution_count": null,
      "metadata": {
        "id": "AWFG6PzqlXhk"
      },
      "outputs": [],
      "source": [
        "import pandas as pd\n",
        "data = pd.read_csv('/content/drive/MyDrive/realtor-data.zip.csv')\n"
      ]
    },
    {
      "cell_type": "markdown",
      "source": [
        "The first part of the process of data analysis is a process called Exploratory data analysis and the data cleaning where the data is analysed in order to have a view of its size, dimensions and its composition and then it is also cleaned.After the data has been loaded into the system, it is helpfull to have an overview of the structure by the use of the head function of pandas which will show the first five rows in the dataset\n"
      ],
      "metadata": {
        "id": "AOGKy6-3jit4"
      }
    },
    {
      "cell_type": "code",
      "execution_count": null,
      "metadata": {
        "id": "5MQNGRfzmVbo",
        "colab": {
          "base_uri": "https://localhost:8080/",
          "height": 206
        },
        "outputId": "2c2d629c-ef12-44bc-ed3a-14987a9156ec"
      },
      "outputs": [
        {
          "output_type": "execute_result",
          "data": {
            "text/plain": [
              "     status  bed  bath  acre_lot        city        state  zip_code  \\\n",
              "0  for_sale  3.0   2.0      0.12    Adjuntas  Puerto Rico     601.0   \n",
              "1  for_sale  4.0   2.0      0.08    Adjuntas  Puerto Rico     601.0   \n",
              "2  for_sale  2.0   1.0      0.15  Juana Diaz  Puerto Rico     795.0   \n",
              "3  for_sale  4.0   2.0      0.10       Ponce  Puerto Rico     731.0   \n",
              "4  for_sale  6.0   2.0      0.05    Mayaguez  Puerto Rico     680.0   \n",
              "\n",
              "   house_size prev_sold_date     price  \n",
              "0       920.0            NaN  105000.0  \n",
              "1      1527.0            NaN   80000.0  \n",
              "2       748.0            NaN   67000.0  \n",
              "3      1800.0            NaN  145000.0  \n",
              "4         NaN            NaN   65000.0  "
            ],
            "text/html": [
              "\n",
              "  <div id=\"df-93af73f5-8c1d-4531-9d34-69b950579889\" class=\"colab-df-container\">\n",
              "    <div>\n",
              "<style scoped>\n",
              "    .dataframe tbody tr th:only-of-type {\n",
              "        vertical-align: middle;\n",
              "    }\n",
              "\n",
              "    .dataframe tbody tr th {\n",
              "        vertical-align: top;\n",
              "    }\n",
              "\n",
              "    .dataframe thead th {\n",
              "        text-align: right;\n",
              "    }\n",
              "</style>\n",
              "<table border=\"1\" class=\"dataframe\">\n",
              "  <thead>\n",
              "    <tr style=\"text-align: right;\">\n",
              "      <th></th>\n",
              "      <th>status</th>\n",
              "      <th>bed</th>\n",
              "      <th>bath</th>\n",
              "      <th>acre_lot</th>\n",
              "      <th>city</th>\n",
              "      <th>state</th>\n",
              "      <th>zip_code</th>\n",
              "      <th>house_size</th>\n",
              "      <th>prev_sold_date</th>\n",
              "      <th>price</th>\n",
              "    </tr>\n",
              "  </thead>\n",
              "  <tbody>\n",
              "    <tr>\n",
              "      <th>0</th>\n",
              "      <td>for_sale</td>\n",
              "      <td>3.0</td>\n",
              "      <td>2.0</td>\n",
              "      <td>0.12</td>\n",
              "      <td>Adjuntas</td>\n",
              "      <td>Puerto Rico</td>\n",
              "      <td>601.0</td>\n",
              "      <td>920.0</td>\n",
              "      <td>NaN</td>\n",
              "      <td>105000.0</td>\n",
              "    </tr>\n",
              "    <tr>\n",
              "      <th>1</th>\n",
              "      <td>for_sale</td>\n",
              "      <td>4.0</td>\n",
              "      <td>2.0</td>\n",
              "      <td>0.08</td>\n",
              "      <td>Adjuntas</td>\n",
              "      <td>Puerto Rico</td>\n",
              "      <td>601.0</td>\n",
              "      <td>1527.0</td>\n",
              "      <td>NaN</td>\n",
              "      <td>80000.0</td>\n",
              "    </tr>\n",
              "    <tr>\n",
              "      <th>2</th>\n",
              "      <td>for_sale</td>\n",
              "      <td>2.0</td>\n",
              "      <td>1.0</td>\n",
              "      <td>0.15</td>\n",
              "      <td>Juana Diaz</td>\n",
              "      <td>Puerto Rico</td>\n",
              "      <td>795.0</td>\n",
              "      <td>748.0</td>\n",
              "      <td>NaN</td>\n",
              "      <td>67000.0</td>\n",
              "    </tr>\n",
              "    <tr>\n",
              "      <th>3</th>\n",
              "      <td>for_sale</td>\n",
              "      <td>4.0</td>\n",
              "      <td>2.0</td>\n",
              "      <td>0.10</td>\n",
              "      <td>Ponce</td>\n",
              "      <td>Puerto Rico</td>\n",
              "      <td>731.0</td>\n",
              "      <td>1800.0</td>\n",
              "      <td>NaN</td>\n",
              "      <td>145000.0</td>\n",
              "    </tr>\n",
              "    <tr>\n",
              "      <th>4</th>\n",
              "      <td>for_sale</td>\n",
              "      <td>6.0</td>\n",
              "      <td>2.0</td>\n",
              "      <td>0.05</td>\n",
              "      <td>Mayaguez</td>\n",
              "      <td>Puerto Rico</td>\n",
              "      <td>680.0</td>\n",
              "      <td>NaN</td>\n",
              "      <td>NaN</td>\n",
              "      <td>65000.0</td>\n",
              "    </tr>\n",
              "  </tbody>\n",
              "</table>\n",
              "</div>\n",
              "    <div class=\"colab-df-buttons\">\n",
              "\n",
              "  <div class=\"colab-df-container\">\n",
              "    <button class=\"colab-df-convert\" onclick=\"convertToInteractive('df-93af73f5-8c1d-4531-9d34-69b950579889')\"\n",
              "            title=\"Convert this dataframe to an interactive table.\"\n",
              "            style=\"display:none;\">\n",
              "\n",
              "  <svg xmlns=\"http://www.w3.org/2000/svg\" height=\"24px\" viewBox=\"0 -960 960 960\">\n",
              "    <path d=\"M120-120v-720h720v720H120Zm60-500h600v-160H180v160Zm220 220h160v-160H400v160Zm0 220h160v-160H400v160ZM180-400h160v-160H180v160Zm440 0h160v-160H620v160ZM180-180h160v-160H180v160Zm440 0h160v-160H620v160Z\"/>\n",
              "  </svg>\n",
              "    </button>\n",
              "\n",
              "  <style>\n",
              "    .colab-df-container {\n",
              "      display:flex;\n",
              "      gap: 12px;\n",
              "    }\n",
              "\n",
              "    .colab-df-convert {\n",
              "      background-color: #E8F0FE;\n",
              "      border: none;\n",
              "      border-radius: 50%;\n",
              "      cursor: pointer;\n",
              "      display: none;\n",
              "      fill: #1967D2;\n",
              "      height: 32px;\n",
              "      padding: 0 0 0 0;\n",
              "      width: 32px;\n",
              "    }\n",
              "\n",
              "    .colab-df-convert:hover {\n",
              "      background-color: #E2EBFA;\n",
              "      box-shadow: 0px 1px 2px rgba(60, 64, 67, 0.3), 0px 1px 3px 1px rgba(60, 64, 67, 0.15);\n",
              "      fill: #174EA6;\n",
              "    }\n",
              "\n",
              "    .colab-df-buttons div {\n",
              "      margin-bottom: 4px;\n",
              "    }\n",
              "\n",
              "    [theme=dark] .colab-df-convert {\n",
              "      background-color: #3B4455;\n",
              "      fill: #D2E3FC;\n",
              "    }\n",
              "\n",
              "    [theme=dark] .colab-df-convert:hover {\n",
              "      background-color: #434B5C;\n",
              "      box-shadow: 0px 1px 3px 1px rgba(0, 0, 0, 0.15);\n",
              "      filter: drop-shadow(0px 1px 2px rgba(0, 0, 0, 0.3));\n",
              "      fill: #FFFFFF;\n",
              "    }\n",
              "  </style>\n",
              "\n",
              "    <script>\n",
              "      const buttonEl =\n",
              "        document.querySelector('#df-93af73f5-8c1d-4531-9d34-69b950579889 button.colab-df-convert');\n",
              "      buttonEl.style.display =\n",
              "        google.colab.kernel.accessAllowed ? 'block' : 'none';\n",
              "\n",
              "      async function convertToInteractive(key) {\n",
              "        const element = document.querySelector('#df-93af73f5-8c1d-4531-9d34-69b950579889');\n",
              "        const dataTable =\n",
              "          await google.colab.kernel.invokeFunction('convertToInteractive',\n",
              "                                                    [key], {});\n",
              "        if (!dataTable) return;\n",
              "\n",
              "        const docLinkHtml = 'Like what you see? Visit the ' +\n",
              "          '<a target=\"_blank\" href=https://colab.research.google.com/notebooks/data_table.ipynb>data table notebook</a>'\n",
              "          + ' to learn more about interactive tables.';\n",
              "        element.innerHTML = '';\n",
              "        dataTable['output_type'] = 'display_data';\n",
              "        await google.colab.output.renderOutput(dataTable, element);\n",
              "        const docLink = document.createElement('div');\n",
              "        docLink.innerHTML = docLinkHtml;\n",
              "        element.appendChild(docLink);\n",
              "      }\n",
              "    </script>\n",
              "  </div>\n",
              "\n",
              "\n",
              "<div id=\"df-1c074f13-864c-4dbb-9817-6a5125b5059c\">\n",
              "  <button class=\"colab-df-quickchart\" onclick=\"quickchart('df-1c074f13-864c-4dbb-9817-6a5125b5059c')\"\n",
              "            title=\"Suggest charts\"\n",
              "            style=\"display:none;\">\n",
              "\n",
              "<svg xmlns=\"http://www.w3.org/2000/svg\" height=\"24px\"viewBox=\"0 0 24 24\"\n",
              "     width=\"24px\">\n",
              "    <g>\n",
              "        <path d=\"M19 3H5c-1.1 0-2 .9-2 2v14c0 1.1.9 2 2 2h14c1.1 0 2-.9 2-2V5c0-1.1-.9-2-2-2zM9 17H7v-7h2v7zm4 0h-2V7h2v10zm4 0h-2v-4h2v4z\"/>\n",
              "    </g>\n",
              "</svg>\n",
              "  </button>\n",
              "\n",
              "<style>\n",
              "  .colab-df-quickchart {\n",
              "      --bg-color: #E8F0FE;\n",
              "      --fill-color: #1967D2;\n",
              "      --hover-bg-color: #E2EBFA;\n",
              "      --hover-fill-color: #174EA6;\n",
              "      --disabled-fill-color: #AAA;\n",
              "      --disabled-bg-color: #DDD;\n",
              "  }\n",
              "\n",
              "  [theme=dark] .colab-df-quickchart {\n",
              "      --bg-color: #3B4455;\n",
              "      --fill-color: #D2E3FC;\n",
              "      --hover-bg-color: #434B5C;\n",
              "      --hover-fill-color: #FFFFFF;\n",
              "      --disabled-bg-color: #3B4455;\n",
              "      --disabled-fill-color: #666;\n",
              "  }\n",
              "\n",
              "  .colab-df-quickchart {\n",
              "    background-color: var(--bg-color);\n",
              "    border: none;\n",
              "    border-radius: 50%;\n",
              "    cursor: pointer;\n",
              "    display: none;\n",
              "    fill: var(--fill-color);\n",
              "    height: 32px;\n",
              "    padding: 0;\n",
              "    width: 32px;\n",
              "  }\n",
              "\n",
              "  .colab-df-quickchart:hover {\n",
              "    background-color: var(--hover-bg-color);\n",
              "    box-shadow: 0 1px 2px rgba(60, 64, 67, 0.3), 0 1px 3px 1px rgba(60, 64, 67, 0.15);\n",
              "    fill: var(--button-hover-fill-color);\n",
              "  }\n",
              "\n",
              "  .colab-df-quickchart-complete:disabled,\n",
              "  .colab-df-quickchart-complete:disabled:hover {\n",
              "    background-color: var(--disabled-bg-color);\n",
              "    fill: var(--disabled-fill-color);\n",
              "    box-shadow: none;\n",
              "  }\n",
              "\n",
              "  .colab-df-spinner {\n",
              "    border: 2px solid var(--fill-color);\n",
              "    border-color: transparent;\n",
              "    border-bottom-color: var(--fill-color);\n",
              "    animation:\n",
              "      spin 1s steps(1) infinite;\n",
              "  }\n",
              "\n",
              "  @keyframes spin {\n",
              "    0% {\n",
              "      border-color: transparent;\n",
              "      border-bottom-color: var(--fill-color);\n",
              "      border-left-color: var(--fill-color);\n",
              "    }\n",
              "    20% {\n",
              "      border-color: transparent;\n",
              "      border-left-color: var(--fill-color);\n",
              "      border-top-color: var(--fill-color);\n",
              "    }\n",
              "    30% {\n",
              "      border-color: transparent;\n",
              "      border-left-color: var(--fill-color);\n",
              "      border-top-color: var(--fill-color);\n",
              "      border-right-color: var(--fill-color);\n",
              "    }\n",
              "    40% {\n",
              "      border-color: transparent;\n",
              "      border-right-color: var(--fill-color);\n",
              "      border-top-color: var(--fill-color);\n",
              "    }\n",
              "    60% {\n",
              "      border-color: transparent;\n",
              "      border-right-color: var(--fill-color);\n",
              "    }\n",
              "    80% {\n",
              "      border-color: transparent;\n",
              "      border-right-color: var(--fill-color);\n",
              "      border-bottom-color: var(--fill-color);\n",
              "    }\n",
              "    90% {\n",
              "      border-color: transparent;\n",
              "      border-bottom-color: var(--fill-color);\n",
              "    }\n",
              "  }\n",
              "</style>\n",
              "\n",
              "  <script>\n",
              "    async function quickchart(key) {\n",
              "      const quickchartButtonEl =\n",
              "        document.querySelector('#' + key + ' button');\n",
              "      quickchartButtonEl.disabled = true;  // To prevent multiple clicks.\n",
              "      quickchartButtonEl.classList.add('colab-df-spinner');\n",
              "      try {\n",
              "        const charts = await google.colab.kernel.invokeFunction(\n",
              "            'suggestCharts', [key], {});\n",
              "      } catch (error) {\n",
              "        console.error('Error during call to suggestCharts:', error);\n",
              "      }\n",
              "      quickchartButtonEl.classList.remove('colab-df-spinner');\n",
              "      quickchartButtonEl.classList.add('colab-df-quickchart-complete');\n",
              "    }\n",
              "    (() => {\n",
              "      let quickchartButtonEl =\n",
              "        document.querySelector('#df-1c074f13-864c-4dbb-9817-6a5125b5059c button');\n",
              "      quickchartButtonEl.style.display =\n",
              "        google.colab.kernel.accessAllowed ? 'block' : 'none';\n",
              "    })();\n",
              "  </script>\n",
              "</div>\n",
              "\n",
              "    </div>\n",
              "  </div>\n"
            ]
          },
          "metadata": {},
          "execution_count": 3
        }
      ],
      "source": [
        "data.head()"
      ]
    },
    {
      "cell_type": "markdown",
      "source": [
        "After having a view of the dataset, a further analysis is implemented to find the dimensions of the dataset through the use of the shape function which shows the number of rows and columns as follows:\n"
      ],
      "metadata": {
        "id": "U_pW1iI6kBIn"
      }
    },
    {
      "cell_type": "code",
      "execution_count": null,
      "metadata": {
        "id": "kvRf0PwwmfCl",
        "colab": {
          "base_uri": "https://localhost:8080/"
        },
        "outputId": "4028eb71-2735-4820-d4fc-7afa88ba82db"
      },
      "outputs": [
        {
          "output_type": "execute_result",
          "data": {
            "text/plain": [
              "(904966, 10)"
            ]
          },
          "metadata": {},
          "execution_count": 4
        }
      ],
      "source": [
        "data.shape"
      ]
    },
    {
      "cell_type": "markdown",
      "source": [
        "As can be dataset consists of nine hundred and four thousands nine hundred and sixty six rows and ten columns.seen the Furthermore, an analysis can be carried out on the data set to determine the data types of the various columns as follows:\n"
      ],
      "metadata": {
        "id": "xP8-lCt0kMd7"
      }
    },
    {
      "cell_type": "code",
      "execution_count": null,
      "metadata": {
        "id": "R2S0wCfamsFo",
        "colab": {
          "base_uri": "https://localhost:8080/"
        },
        "outputId": "b2d1b460-5d54-471f-ab17-d5210f936f6b"
      },
      "outputs": [
        {
          "output_type": "execute_result",
          "data": {
            "text/plain": [
              "status             object\n",
              "bed               float64\n",
              "bath              float64\n",
              "acre_lot          float64\n",
              "city               object\n",
              "state              object\n",
              "zip_code          float64\n",
              "house_size        float64\n",
              "prev_sold_date     object\n",
              "price             float64\n",
              "dtype: object"
            ]
          },
          "metadata": {},
          "execution_count": 5
        }
      ],
      "source": [
        "data.dtypes"
      ]
    },
    {
      "cell_type": "markdown",
      "source": [
        "As can be seen from above, the dataset consists a combination of objects or string and numerical values. After this is done it is also necessary to remove all the duplicatete rows in this dataset as it is always possible that some rows may have been erroneousely entered twice or more.This is done by the use of the drop duplicates method in which we pass a parameter of inplace as being true to indicate that we are modifying the current database\n"
      ],
      "metadata": {
        "id": "1sm0PAWykVNf"
      }
    },
    {
      "cell_type": "code",
      "execution_count": null,
      "metadata": {
        "id": "BeUMtzrUm0lR",
        "colab": {
          "base_uri": "https://localhost:8080/"
        },
        "outputId": "44b28c08-dd2a-4118-dbff-1af825bcb9c9"
      },
      "outputs": [
        {
          "output_type": "execute_result",
          "data": {
            "text/plain": [
              "(110101, 10)"
            ]
          },
          "metadata": {},
          "execution_count": 6
        }
      ],
      "source": [
        " data.drop_duplicates(inplace=True)\n",
        " data.shape"
      ]
    },
    {
      "cell_type": "markdown",
      "source": [
        "After the duplicates have been dropped it is then necessary to once again check the dimensions of the data set to ensure that indeed some rows have been removed reducing the number of rows to one hundred and ten thousand, one hundred and one which is a lot less than the original and hence will significantly increase the accuracy of the model as shown above:\n"
      ],
      "metadata": {
        "id": "ltc5NqnmkiaI"
      }
    },
    {
      "cell_type": "markdown",
      "source": [
        "The second part of the data analysis process is known as data cleaning, this process will involve the fixing or removing of incomplete data and data that is not correctly formatted. this process will begin with the identification of all those rows that contain null values through the us of the pandas is null function as shown below:\n"
      ],
      "metadata": {
        "id": "FMn4PuM-kvyv"
      }
    },
    {
      "cell_type": "code",
      "execution_count": null,
      "metadata": {
        "id": "BaOL5zyLnCRu",
        "colab": {
          "base_uri": "https://localhost:8080/"
        },
        "outputId": "abbd4dc3-8fe9-44b7-878a-a9f661e16c65"
      },
      "outputs": [
        {
          "output_type": "execute_result",
          "data": {
            "text/plain": [
              "status                0\n",
              "bed               16770\n",
              "bath              15586\n",
              "acre_lot          29882\n",
              "city                 22\n",
              "state                 0\n",
              "zip_code             32\n",
              "house_size        35311\n",
              "prev_sold_date    51883\n",
              "price                18\n",
              "dtype: int64"
            ]
          },
          "metadata": {},
          "execution_count": 7
        }
      ],
      "source": [
        "data.isna().sum()"
      ]
    },
    {
      "cell_type": "markdown",
      "source": [
        "From the above data it can be seen that many of the columns namely the bed, bath, acres , house size contain alot of null values. It can also be observed that these columns represent numerical values which will have to be handled differently from the other values like city and zip code which are non numeric.For the first four columns namely bed , bath acre and house size we have to consider that the number of null values is too great to ignore and sice these are numerical values, the best solution is to replace each of the null values in the column by the median value of that column, for example in the case of the bed column, for each of the rows that have a null value for the bed column, it is replaced by the calculated median value of all the bed values in the dataset.This is carried out for all the columns with null values as shown below:\n"
      ],
      "metadata": {
        "id": "gcu-8NR7k4QX"
      }
    },
    {
      "cell_type": "code",
      "execution_count": null,
      "metadata": {
        "id": "xNlSp_z9nPDs",
        "colab": {
          "base_uri": "https://localhost:8080/"
        },
        "outputId": "ad9296d2-7f2d-4816-8df1-6e6aeabfa9e4"
      },
      "outputs": [
        {
          "output_type": "execute_result",
          "data": {
            "text/plain": [
              "status                0\n",
              "bed                   0\n",
              "bath                  0\n",
              "acre_lot              0\n",
              "city                 22\n",
              "state                 0\n",
              "zip_code             32\n",
              "house_size            0\n",
              "prev_sold_date    51883\n",
              "price                18\n",
              "dtype: int64"
            ]
          },
          "metadata": {},
          "execution_count": 8
        }
      ],
      "source": [
        "data['bed'].fillna(data['bed'].median(), inplace=True)\n",
        "data['bath'].fillna(data['bath'].median(), inplace=True)\n",
        "data['acre_lot'].fillna(data['acre_lot'].mean(), inplace=True)\n",
        "data['house_size'].fillna(data['house_size'].mean(), inplace=True)\n",
        "data.isna().sum()"
      ]
    },
    {
      "cell_type": "markdown",
      "source": [
        "At this stage it can be observed that there are some non numerical columns that still retain null as since the count of these columns is very low as compared to the number of rows in the data set it would be preferable to just drop these rows containing null values, also the column price also has null values and since this is a variable that also has few nulls it too can have all it's rows with nulls removed. The operation can then be done on all three columns as shown below:\n"
      ],
      "metadata": {
        "id": "ZD3UlC9blBvC"
      }
    },
    {
      "cell_type": "code",
      "execution_count": null,
      "metadata": {
        "id": "JyulT7Z9nnW0",
        "colab": {
          "base_uri": "https://localhost:8080/"
        },
        "outputId": "8a49194e-9e86-4eab-dd9d-b9d451f86543"
      },
      "outputs": [
        {
          "output_type": "execute_result",
          "data": {
            "text/plain": [
              "status                0\n",
              "bed                   0\n",
              "bath                  0\n",
              "acre_lot              0\n",
              "city                  0\n",
              "state                 0\n",
              "zip_code              0\n",
              "house_size            0\n",
              "prev_sold_date    51826\n",
              "price                 0\n",
              "dtype: int64"
            ]
          },
          "metadata": {},
          "execution_count": 9
        }
      ],
      "source": [
        "data = data.dropna(subset=['zip_code','city', 'price'])\n",
        "data.isna().sum()"
      ]
    },
    {
      "cell_type": "markdown",
      "source": [
        "Finally, the last column that has to be dealt with is the previous sold date, this column is a non numeric column an also happens to have a substantially large amount of nulls therefore the best approach would be to simply drop this column as a whole as shown below:\n"
      ],
      "metadata": {
        "id": "NkwoQL7UlPIX"
      }
    },
    {
      "cell_type": "code",
      "execution_count": null,
      "metadata": {
        "id": "vCi5J9dnn0XV",
        "colab": {
          "base_uri": "https://localhost:8080/"
        },
        "outputId": "3b184416-afb3-43d9-9aa8-79123db3c8df"
      },
      "outputs": [
        {
          "output_type": "execute_result",
          "data": {
            "text/plain": [
              "status        0\n",
              "bed           0\n",
              "bath          0\n",
              "acre_lot      0\n",
              "city          0\n",
              "state         0\n",
              "zip_code      0\n",
              "house_size    0\n",
              "price         0\n",
              "dtype: int64"
            ]
          },
          "metadata": {},
          "execution_count": 10
        }
      ],
      "source": [
        "data = data.drop('prev_sold_date', axis=1)\n",
        "data.isna().sum()"
      ]
    },
    {
      "cell_type": "markdown",
      "source": [
        "When dealing with categorical data it is necessary to know the number of unique fields for each column in order to properly determine how to deal with them as we cannot have a column with a very high number of unique fields this is done with the unique function as follows:\n"
      ],
      "metadata": {
        "id": "KY5xHzHAluIH"
      }
    },
    {
      "cell_type": "code",
      "source": [
        "data['state'].nunique()"
      ],
      "metadata": {
        "colab": {
          "base_uri": "https://localhost:8080/"
        },
        "id": "GqyT3xfhmExn",
        "outputId": "742a9ff3-dddc-4fba-e5de-feda8fa010c2"
      },
      "execution_count": null,
      "outputs": [
        {
          "output_type": "execute_result",
          "data": {
            "text/plain": [
              "18"
            ]
          },
          "metadata": {},
          "execution_count": 11
        }
      ]
    },
    {
      "cell_type": "code",
      "source": [
        "data['status'].nunique()"
      ],
      "metadata": {
        "colab": {
          "base_uri": "https://localhost:8080/"
        },
        "id": "eAUbfv-bmMlr",
        "outputId": "12790b51-7364-48d2-c682-134d3b84f285"
      },
      "execution_count": null,
      "outputs": [
        {
          "output_type": "execute_result",
          "data": {
            "text/plain": [
              "2"
            ]
          },
          "metadata": {},
          "execution_count": 12
        }
      ]
    },
    {
      "cell_type": "code",
      "execution_count": null,
      "metadata": {
        "id": "5sR-QvpCszhr",
        "colab": {
          "base_uri": "https://localhost:8080/"
        },
        "outputId": "154bb286-912c-4f38-ac6c-0893150ddb5a"
      },
      "outputs": [
        {
          "output_type": "execute_result",
          "data": {
            "text/plain": [
              "3140"
            ]
          },
          "metadata": {},
          "execution_count": 13
        }
      ],
      "source": [
        "data['zip_code'].nunique()"
      ]
    },
    {
      "cell_type": "code",
      "execution_count": null,
      "metadata": {
        "id": "TTn94crduNKR",
        "colab": {
          "base_uri": "https://localhost:8080/"
        },
        "outputId": "801a65f6-392d-4a33-f17c-787757a73bc4"
      },
      "outputs": [
        {
          "output_type": "execute_result",
          "data": {
            "text/plain": [
              "2486"
            ]
          },
          "metadata": {},
          "execution_count": 14
        }
      ],
      "source": [
        "data['city'].nunique()"
      ]
    },
    {
      "cell_type": "markdown",
      "source": [
        "As can be seen from the above, two particular columns stand out as having a very high amount of unique values these are the city category and the zip code category. in order to deal with these it is necessary to first view the distribution of the various entries beginning first with the zip code where  the first 50 zip codes are viewed together with their corresponding value counts,from this it can be seen that from the top twenty zip codes, we get the highest values and the ones that follow are relatively low."
      ],
      "metadata": {
        "id": "h22qPTtTmuTj"
      }
    },
    {
      "cell_type": "code",
      "execution_count": null,
      "metadata": {
        "id": "d9XnLCSdoykE",
        "colab": {
          "base_uri": "https://localhost:8080/"
        },
        "outputId": "854fe901-0f25-4b98-ec12-c8b8434e3122"
      },
      "outputs": [
        {
          "output_type": "execute_result",
          "data": {
            "text/plain": [
              "10023.0    718\n",
              "10022.0    649\n",
              "10011.0    642\n",
              "11201.0    609\n",
              "10016.0    587\n",
              "10021.0    535\n",
              "10028.0    438\n",
              "10019.0    419\n",
              "10065.0    411\n",
              "10003.0    402\n",
              "10024.0    400\n",
              "10128.0    398\n",
              "8401.0     396\n",
              "8226.0     389\n",
              "11235.0    348\n",
              "10013.0    338\n",
              "10075.0    337\n",
              "10025.0    333\n",
              "8831.0     328\n",
              "8527.0     327\n",
              "820.0      322\n",
              "8753.0     316\n",
              "19146.0    313\n",
              "10010.0    308\n",
              "19134.0    307\n",
              "8260.0     305\n",
              "11209.0    303\n",
              "10014.0    300\n",
              "8759.0     292\n",
              "10463.0    285\n",
              "10027.0    283\n",
              "10002.0    275\n",
              "8234.0     272\n",
              "11215.0    264\n",
              "8757.0     262\n",
              "8701.0     255\n",
              "8087.0     255\n",
              "19143.0    250\n",
              "19145.0    249\n",
              "8332.0     241\n",
              "7024.0     238\n",
              "6010.0     236\n",
              "8330.0     233\n",
              "19148.0    233\n",
              "10314.0    233\n",
              "11229.0    228\n",
              "11375.0    226\n",
              "19124.0    226\n",
              "11234.0    221\n",
              "10301.0    220\n",
              "Name: zip_code, dtype: int64"
            ]
          },
          "metadata": {},
          "execution_count": 15
        }
      ],
      "source": [
        "vz = data['zip_code'].value_counts()\n",
        "vz.head(50)"
      ]
    },
    {
      "cell_type": "markdown",
      "source": [
        "Therefore in order to reduce on the number of zip code types for the purpose of creating a function that can be used to predict the house price, we first get the zip codes of the top twenty values in the data set, then from these a  function is created that takes the first twenty zip code values as they are and then bundles the remaining zip code types into a new zip code entry called other and thus reducing on the number of zip code types in the dataset as shown below:"
      ],
      "metadata": {
        "id": "GtTAYDW_owhP"
      }
    },
    {
      "cell_type": "code",
      "execution_count": null,
      "metadata": {
        "id": "mIGc1su2qlIk",
        "colab": {
          "base_uri": "https://localhost:8080/"
        },
        "outputId": "2b9072ad-68ce-44ad-8753-74f1f92402c8"
      },
      "outputs": [
        {
          "output_type": "execute_result",
          "data": {
            "text/plain": [
              "Float64Index([10023.0, 10022.0, 10011.0, 11201.0, 10016.0, 10021.0, 10028.0,\n",
              "              10019.0, 10065.0, 10003.0, 10024.0, 10128.0,  8401.0,  8226.0,\n",
              "              11235.0, 10013.0, 10075.0, 10025.0,  8831.0,  8527.0],\n",
              "             dtype='float64')"
            ]
          },
          "metadata": {},
          "execution_count": 16
        }
      ],
      "source": [
        "df_top_20 = data['zip_code'].value_counts().nlargest(20).index\n",
        "df_top_20"
      ]
    },
    {
      "cell_type": "code",
      "execution_count": null,
      "metadata": {
        "id": "QgP20Zo9qveq",
        "colab": {
          "base_uri": "https://localhost:8080/"
        },
        "outputId": "ee7460d9-19d2-4d8e-eefa-cbb653fd5571"
      },
      "outputs": [
        {
          "output_type": "execute_result",
          "data": {
            "text/plain": [
              "other_code    101040\n",
              "10023.0          718\n",
              "10022.0          649\n",
              "10011.0          642\n",
              "11201.0          609\n",
              "10016.0          587\n",
              "10021.0          535\n",
              "10028.0          438\n",
              "10019.0          419\n",
              "10065.0          411\n",
              "10003.0          402\n",
              "10024.0          400\n",
              "10128.0          398\n",
              "8401.0           396\n",
              "8226.0           389\n",
              "11235.0          348\n",
              "10013.0          338\n",
              "10075.0          337\n",
              "10025.0          333\n",
              "8831.0           328\n",
              "8527.0           327\n",
              "Name: zip_code_cat, dtype: int64"
            ]
          },
          "metadata": {},
          "execution_count": 17
        }
      ],
      "source": [
        "data['zip_code_cat'] = data['zip_code'].where(data['zip_code'].isin(df_top_20), 'other_code')\n",
        "data['zip_code_cat'].value_counts()"
      ]
    },
    {
      "cell_type": "markdown",
      "source": [
        "After this conversion a new column called zip code cat is created that now contains a new type of zip code category called other code that contains all the zip codes that have a relatively low value count for the zip code entriesas shoown below."
      ],
      "metadata": {
        "id": "mVbM4QL8qFZr"
      }
    },
    {
      "cell_type": "code",
      "execution_count": null,
      "metadata": {
        "id": "GAFRIgGhrGfi",
        "colab": {
          "base_uri": "https://localhost:8080/",
          "height": 206
        },
        "outputId": "c604e440-62bd-45e4-ee12-91d2be325ee6"
      },
      "outputs": [
        {
          "output_type": "execute_result",
          "data": {
            "text/plain": [
              "     status  bed  bath  acre_lot        city        state  zip_code  \\\n",
              "0  for_sale  3.0   2.0      0.12    Adjuntas  Puerto Rico     601.0   \n",
              "1  for_sale  4.0   2.0      0.08    Adjuntas  Puerto Rico     601.0   \n",
              "2  for_sale  2.0   1.0      0.15  Juana Diaz  Puerto Rico     795.0   \n",
              "3  for_sale  4.0   2.0      0.10       Ponce  Puerto Rico     731.0   \n",
              "4  for_sale  6.0   2.0      0.05    Mayaguez  Puerto Rico     680.0   \n",
              "\n",
              "    house_size     price zip_code_cat  \n",
              "0   920.000000  105000.0   other_code  \n",
              "1  1527.000000   80000.0   other_code  \n",
              "2   748.000000   67000.0   other_code  \n",
              "3  1800.000000  145000.0   other_code  \n",
              "4  2158.001979   65000.0   other_code  "
            ],
            "text/html": [
              "\n",
              "  <div id=\"df-c522f450-39d2-43ad-909a-614038b756a1\" class=\"colab-df-container\">\n",
              "    <div>\n",
              "<style scoped>\n",
              "    .dataframe tbody tr th:only-of-type {\n",
              "        vertical-align: middle;\n",
              "    }\n",
              "\n",
              "    .dataframe tbody tr th {\n",
              "        vertical-align: top;\n",
              "    }\n",
              "\n",
              "    .dataframe thead th {\n",
              "        text-align: right;\n",
              "    }\n",
              "</style>\n",
              "<table border=\"1\" class=\"dataframe\">\n",
              "  <thead>\n",
              "    <tr style=\"text-align: right;\">\n",
              "      <th></th>\n",
              "      <th>status</th>\n",
              "      <th>bed</th>\n",
              "      <th>bath</th>\n",
              "      <th>acre_lot</th>\n",
              "      <th>city</th>\n",
              "      <th>state</th>\n",
              "      <th>zip_code</th>\n",
              "      <th>house_size</th>\n",
              "      <th>price</th>\n",
              "      <th>zip_code_cat</th>\n",
              "    </tr>\n",
              "  </thead>\n",
              "  <tbody>\n",
              "    <tr>\n",
              "      <th>0</th>\n",
              "      <td>for_sale</td>\n",
              "      <td>3.0</td>\n",
              "      <td>2.0</td>\n",
              "      <td>0.12</td>\n",
              "      <td>Adjuntas</td>\n",
              "      <td>Puerto Rico</td>\n",
              "      <td>601.0</td>\n",
              "      <td>920.000000</td>\n",
              "      <td>105000.0</td>\n",
              "      <td>other_code</td>\n",
              "    </tr>\n",
              "    <tr>\n",
              "      <th>1</th>\n",
              "      <td>for_sale</td>\n",
              "      <td>4.0</td>\n",
              "      <td>2.0</td>\n",
              "      <td>0.08</td>\n",
              "      <td>Adjuntas</td>\n",
              "      <td>Puerto Rico</td>\n",
              "      <td>601.0</td>\n",
              "      <td>1527.000000</td>\n",
              "      <td>80000.0</td>\n",
              "      <td>other_code</td>\n",
              "    </tr>\n",
              "    <tr>\n",
              "      <th>2</th>\n",
              "      <td>for_sale</td>\n",
              "      <td>2.0</td>\n",
              "      <td>1.0</td>\n",
              "      <td>0.15</td>\n",
              "      <td>Juana Diaz</td>\n",
              "      <td>Puerto Rico</td>\n",
              "      <td>795.0</td>\n",
              "      <td>748.000000</td>\n",
              "      <td>67000.0</td>\n",
              "      <td>other_code</td>\n",
              "    </tr>\n",
              "    <tr>\n",
              "      <th>3</th>\n",
              "      <td>for_sale</td>\n",
              "      <td>4.0</td>\n",
              "      <td>2.0</td>\n",
              "      <td>0.10</td>\n",
              "      <td>Ponce</td>\n",
              "      <td>Puerto Rico</td>\n",
              "      <td>731.0</td>\n",
              "      <td>1800.000000</td>\n",
              "      <td>145000.0</td>\n",
              "      <td>other_code</td>\n",
              "    </tr>\n",
              "    <tr>\n",
              "      <th>4</th>\n",
              "      <td>for_sale</td>\n",
              "      <td>6.0</td>\n",
              "      <td>2.0</td>\n",
              "      <td>0.05</td>\n",
              "      <td>Mayaguez</td>\n",
              "      <td>Puerto Rico</td>\n",
              "      <td>680.0</td>\n",
              "      <td>2158.001979</td>\n",
              "      <td>65000.0</td>\n",
              "      <td>other_code</td>\n",
              "    </tr>\n",
              "  </tbody>\n",
              "</table>\n",
              "</div>\n",
              "    <div class=\"colab-df-buttons\">\n",
              "\n",
              "  <div class=\"colab-df-container\">\n",
              "    <button class=\"colab-df-convert\" onclick=\"convertToInteractive('df-c522f450-39d2-43ad-909a-614038b756a1')\"\n",
              "            title=\"Convert this dataframe to an interactive table.\"\n",
              "            style=\"display:none;\">\n",
              "\n",
              "  <svg xmlns=\"http://www.w3.org/2000/svg\" height=\"24px\" viewBox=\"0 -960 960 960\">\n",
              "    <path d=\"M120-120v-720h720v720H120Zm60-500h600v-160H180v160Zm220 220h160v-160H400v160Zm0 220h160v-160H400v160ZM180-400h160v-160H180v160Zm440 0h160v-160H620v160ZM180-180h160v-160H180v160Zm440 0h160v-160H620v160Z\"/>\n",
              "  </svg>\n",
              "    </button>\n",
              "\n",
              "  <style>\n",
              "    .colab-df-container {\n",
              "      display:flex;\n",
              "      gap: 12px;\n",
              "    }\n",
              "\n",
              "    .colab-df-convert {\n",
              "      background-color: #E8F0FE;\n",
              "      border: none;\n",
              "      border-radius: 50%;\n",
              "      cursor: pointer;\n",
              "      display: none;\n",
              "      fill: #1967D2;\n",
              "      height: 32px;\n",
              "      padding: 0 0 0 0;\n",
              "      width: 32px;\n",
              "    }\n",
              "\n",
              "    .colab-df-convert:hover {\n",
              "      background-color: #E2EBFA;\n",
              "      box-shadow: 0px 1px 2px rgba(60, 64, 67, 0.3), 0px 1px 3px 1px rgba(60, 64, 67, 0.15);\n",
              "      fill: #174EA6;\n",
              "    }\n",
              "\n",
              "    .colab-df-buttons div {\n",
              "      margin-bottom: 4px;\n",
              "    }\n",
              "\n",
              "    [theme=dark] .colab-df-convert {\n",
              "      background-color: #3B4455;\n",
              "      fill: #D2E3FC;\n",
              "    }\n",
              "\n",
              "    [theme=dark] .colab-df-convert:hover {\n",
              "      background-color: #434B5C;\n",
              "      box-shadow: 0px 1px 3px 1px rgba(0, 0, 0, 0.15);\n",
              "      filter: drop-shadow(0px 1px 2px rgba(0, 0, 0, 0.3));\n",
              "      fill: #FFFFFF;\n",
              "    }\n",
              "  </style>\n",
              "\n",
              "    <script>\n",
              "      const buttonEl =\n",
              "        document.querySelector('#df-c522f450-39d2-43ad-909a-614038b756a1 button.colab-df-convert');\n",
              "      buttonEl.style.display =\n",
              "        google.colab.kernel.accessAllowed ? 'block' : 'none';\n",
              "\n",
              "      async function convertToInteractive(key) {\n",
              "        const element = document.querySelector('#df-c522f450-39d2-43ad-909a-614038b756a1');\n",
              "        const dataTable =\n",
              "          await google.colab.kernel.invokeFunction('convertToInteractive',\n",
              "                                                    [key], {});\n",
              "        if (!dataTable) return;\n",
              "\n",
              "        const docLinkHtml = 'Like what you see? Visit the ' +\n",
              "          '<a target=\"_blank\" href=https://colab.research.google.com/notebooks/data_table.ipynb>data table notebook</a>'\n",
              "          + ' to learn more about interactive tables.';\n",
              "        element.innerHTML = '';\n",
              "        dataTable['output_type'] = 'display_data';\n",
              "        await google.colab.output.renderOutput(dataTable, element);\n",
              "        const docLink = document.createElement('div');\n",
              "        docLink.innerHTML = docLinkHtml;\n",
              "        element.appendChild(docLink);\n",
              "      }\n",
              "    </script>\n",
              "  </div>\n",
              "\n",
              "\n",
              "<div id=\"df-64685d8f-78a2-48cc-b454-211371b544a9\">\n",
              "  <button class=\"colab-df-quickchart\" onclick=\"quickchart('df-64685d8f-78a2-48cc-b454-211371b544a9')\"\n",
              "            title=\"Suggest charts\"\n",
              "            style=\"display:none;\">\n",
              "\n",
              "<svg xmlns=\"http://www.w3.org/2000/svg\" height=\"24px\"viewBox=\"0 0 24 24\"\n",
              "     width=\"24px\">\n",
              "    <g>\n",
              "        <path d=\"M19 3H5c-1.1 0-2 .9-2 2v14c0 1.1.9 2 2 2h14c1.1 0 2-.9 2-2V5c0-1.1-.9-2-2-2zM9 17H7v-7h2v7zm4 0h-2V7h2v10zm4 0h-2v-4h2v4z\"/>\n",
              "    </g>\n",
              "</svg>\n",
              "  </button>\n",
              "\n",
              "<style>\n",
              "  .colab-df-quickchart {\n",
              "      --bg-color: #E8F0FE;\n",
              "      --fill-color: #1967D2;\n",
              "      --hover-bg-color: #E2EBFA;\n",
              "      --hover-fill-color: #174EA6;\n",
              "      --disabled-fill-color: #AAA;\n",
              "      --disabled-bg-color: #DDD;\n",
              "  }\n",
              "\n",
              "  [theme=dark] .colab-df-quickchart {\n",
              "      --bg-color: #3B4455;\n",
              "      --fill-color: #D2E3FC;\n",
              "      --hover-bg-color: #434B5C;\n",
              "      --hover-fill-color: #FFFFFF;\n",
              "      --disabled-bg-color: #3B4455;\n",
              "      --disabled-fill-color: #666;\n",
              "  }\n",
              "\n",
              "  .colab-df-quickchart {\n",
              "    background-color: var(--bg-color);\n",
              "    border: none;\n",
              "    border-radius: 50%;\n",
              "    cursor: pointer;\n",
              "    display: none;\n",
              "    fill: var(--fill-color);\n",
              "    height: 32px;\n",
              "    padding: 0;\n",
              "    width: 32px;\n",
              "  }\n",
              "\n",
              "  .colab-df-quickchart:hover {\n",
              "    background-color: var(--hover-bg-color);\n",
              "    box-shadow: 0 1px 2px rgba(60, 64, 67, 0.3), 0 1px 3px 1px rgba(60, 64, 67, 0.15);\n",
              "    fill: var(--button-hover-fill-color);\n",
              "  }\n",
              "\n",
              "  .colab-df-quickchart-complete:disabled,\n",
              "  .colab-df-quickchart-complete:disabled:hover {\n",
              "    background-color: var(--disabled-bg-color);\n",
              "    fill: var(--disabled-fill-color);\n",
              "    box-shadow: none;\n",
              "  }\n",
              "\n",
              "  .colab-df-spinner {\n",
              "    border: 2px solid var(--fill-color);\n",
              "    border-color: transparent;\n",
              "    border-bottom-color: var(--fill-color);\n",
              "    animation:\n",
              "      spin 1s steps(1) infinite;\n",
              "  }\n",
              "\n",
              "  @keyframes spin {\n",
              "    0% {\n",
              "      border-color: transparent;\n",
              "      border-bottom-color: var(--fill-color);\n",
              "      border-left-color: var(--fill-color);\n",
              "    }\n",
              "    20% {\n",
              "      border-color: transparent;\n",
              "      border-left-color: var(--fill-color);\n",
              "      border-top-color: var(--fill-color);\n",
              "    }\n",
              "    30% {\n",
              "      border-color: transparent;\n",
              "      border-left-color: var(--fill-color);\n",
              "      border-top-color: var(--fill-color);\n",
              "      border-right-color: var(--fill-color);\n",
              "    }\n",
              "    40% {\n",
              "      border-color: transparent;\n",
              "      border-right-color: var(--fill-color);\n",
              "      border-top-color: var(--fill-color);\n",
              "    }\n",
              "    60% {\n",
              "      border-color: transparent;\n",
              "      border-right-color: var(--fill-color);\n",
              "    }\n",
              "    80% {\n",
              "      border-color: transparent;\n",
              "      border-right-color: var(--fill-color);\n",
              "      border-bottom-color: var(--fill-color);\n",
              "    }\n",
              "    90% {\n",
              "      border-color: transparent;\n",
              "      border-bottom-color: var(--fill-color);\n",
              "    }\n",
              "  }\n",
              "</style>\n",
              "\n",
              "  <script>\n",
              "    async function quickchart(key) {\n",
              "      const quickchartButtonEl =\n",
              "        document.querySelector('#' + key + ' button');\n",
              "      quickchartButtonEl.disabled = true;  // To prevent multiple clicks.\n",
              "      quickchartButtonEl.classList.add('colab-df-spinner');\n",
              "      try {\n",
              "        const charts = await google.colab.kernel.invokeFunction(\n",
              "            'suggestCharts', [key], {});\n",
              "      } catch (error) {\n",
              "        console.error('Error during call to suggestCharts:', error);\n",
              "      }\n",
              "      quickchartButtonEl.classList.remove('colab-df-spinner');\n",
              "      quickchartButtonEl.classList.add('colab-df-quickchart-complete');\n",
              "    }\n",
              "    (() => {\n",
              "      let quickchartButtonEl =\n",
              "        document.querySelector('#df-64685d8f-78a2-48cc-b454-211371b544a9 button');\n",
              "      quickchartButtonEl.style.display =\n",
              "        google.colab.kernel.accessAllowed ? 'block' : 'none';\n",
              "    })();\n",
              "  </script>\n",
              "</div>\n",
              "\n",
              "    </div>\n",
              "  </div>\n"
            ]
          },
          "metadata": {},
          "execution_count": 18
        }
      ],
      "source": [
        "data.head()"
      ]
    },
    {
      "cell_type": "markdown",
      "source": [
        "After this operation has been done, it is also applied to the city column which also has a high number of city types. As done previousely, the top twenty cities with the highest value counts is obtained and the rest is bundled up into a new category called other city as shown below:"
      ],
      "metadata": {
        "id": "YaeUhaXirRrW"
      }
    },
    {
      "cell_type": "code",
      "execution_count": null,
      "metadata": {
        "id": "zOLac0NnrQSe",
        "colab": {
          "base_uri": "https://localhost:8080/"
        },
        "outputId": "77cfd2b2-80ac-40fe-856c-5891c78f5d9f"
      },
      "outputs": [
        {
          "output_type": "execute_result",
          "data": {
            "text/plain": [
              "Float64Index([10023.0, 10022.0, 10011.0, 11201.0, 10016.0, 10021.0, 10028.0,\n",
              "              10019.0, 10065.0, 10003.0, 10024.0, 10128.0,  8401.0,  8226.0,\n",
              "              11235.0, 10013.0, 10075.0, 10025.0,  8831.0,  8527.0],\n",
              "             dtype='float64')"
            ]
          },
          "metadata": {},
          "execution_count": 19
        }
      ],
      "source": [
        "df_top_20_2 = data['city'].value_counts().nlargest(20).index\n",
        "df_top_20"
      ]
    },
    {
      "cell_type": "code",
      "execution_count": null,
      "metadata": {
        "id": "F8MhL1vQvmrN",
        "colab": {
          "base_uri": "https://localhost:8080/"
        },
        "outputId": "c0315947-d534-440c-fe02-6f31b82f3516"
      },
      "outputs": [
        {
          "output_type": "execute_result",
          "data": {
            "text/plain": [
              "other_city       78834\n",
              "New York City     6560\n",
              "Philadelphia      5418\n",
              "New York          4997\n",
              "Brooklyn          3051\n",
              "Staten Island     1579\n",
              "Bronx             1387\n",
              "Boston            1228\n",
              "Toms River         739\n",
              "Newark             734\n",
              "Manhattan          702\n",
              "Wilmington         652\n",
              "Jersey City        624\n",
              "Middletown         484\n",
              "Bridgeport         466\n",
              "Manchester         463\n",
              "Stamford           452\n",
              "Providence         433\n",
              "Trenton            422\n",
              "Waterbury          413\n",
              "San Juan           406\n",
              "Name: city_cat, dtype: int64"
            ]
          },
          "metadata": {},
          "execution_count": 20
        }
      ],
      "source": [
        "data['city_cat'] = data['city'].where(data['city'].isin(df_top_20_2), 'other_city')\n",
        "data['city_cat'].value_counts()"
      ]
    },
    {
      "cell_type": "markdown",
      "source": [
        "After this operation, the dataset is viewed to show the new columns that have been created namely zip code category and the city category. After the vreation of these columns, it is then necessary to get rid of the old columns through the use of the drop function as shown below:"
      ],
      "metadata": {
        "id": "xNLEkeXktZmX"
      }
    },
    {
      "cell_type": "code",
      "execution_count": null,
      "metadata": {
        "id": "PZ347AXkwAT4",
        "colab": {
          "base_uri": "https://localhost:8080/",
          "height": 206
        },
        "outputId": "0217fbc7-e5b4-478a-a39b-2f953ce3620a"
      },
      "outputs": [
        {
          "output_type": "execute_result",
          "data": {
            "text/plain": [
              "     status  bed  bath  acre_lot        city        state  zip_code  \\\n",
              "0  for_sale  3.0   2.0      0.12    Adjuntas  Puerto Rico     601.0   \n",
              "1  for_sale  4.0   2.0      0.08    Adjuntas  Puerto Rico     601.0   \n",
              "2  for_sale  2.0   1.0      0.15  Juana Diaz  Puerto Rico     795.0   \n",
              "3  for_sale  4.0   2.0      0.10       Ponce  Puerto Rico     731.0   \n",
              "4  for_sale  6.0   2.0      0.05    Mayaguez  Puerto Rico     680.0   \n",
              "\n",
              "    house_size     price zip_code_cat    city_cat  \n",
              "0   920.000000  105000.0   other_code  other_city  \n",
              "1  1527.000000   80000.0   other_code  other_city  \n",
              "2   748.000000   67000.0   other_code  other_city  \n",
              "3  1800.000000  145000.0   other_code  other_city  \n",
              "4  2158.001979   65000.0   other_code  other_city  "
            ],
            "text/html": [
              "\n",
              "  <div id=\"df-da11cb1f-1e4e-42d6-89b0-a78fd569f10b\" class=\"colab-df-container\">\n",
              "    <div>\n",
              "<style scoped>\n",
              "    .dataframe tbody tr th:only-of-type {\n",
              "        vertical-align: middle;\n",
              "    }\n",
              "\n",
              "    .dataframe tbody tr th {\n",
              "        vertical-align: top;\n",
              "    }\n",
              "\n",
              "    .dataframe thead th {\n",
              "        text-align: right;\n",
              "    }\n",
              "</style>\n",
              "<table border=\"1\" class=\"dataframe\">\n",
              "  <thead>\n",
              "    <tr style=\"text-align: right;\">\n",
              "      <th></th>\n",
              "      <th>status</th>\n",
              "      <th>bed</th>\n",
              "      <th>bath</th>\n",
              "      <th>acre_lot</th>\n",
              "      <th>city</th>\n",
              "      <th>state</th>\n",
              "      <th>zip_code</th>\n",
              "      <th>house_size</th>\n",
              "      <th>price</th>\n",
              "      <th>zip_code_cat</th>\n",
              "      <th>city_cat</th>\n",
              "    </tr>\n",
              "  </thead>\n",
              "  <tbody>\n",
              "    <tr>\n",
              "      <th>0</th>\n",
              "      <td>for_sale</td>\n",
              "      <td>3.0</td>\n",
              "      <td>2.0</td>\n",
              "      <td>0.12</td>\n",
              "      <td>Adjuntas</td>\n",
              "      <td>Puerto Rico</td>\n",
              "      <td>601.0</td>\n",
              "      <td>920.000000</td>\n",
              "      <td>105000.0</td>\n",
              "      <td>other_code</td>\n",
              "      <td>other_city</td>\n",
              "    </tr>\n",
              "    <tr>\n",
              "      <th>1</th>\n",
              "      <td>for_sale</td>\n",
              "      <td>4.0</td>\n",
              "      <td>2.0</td>\n",
              "      <td>0.08</td>\n",
              "      <td>Adjuntas</td>\n",
              "      <td>Puerto Rico</td>\n",
              "      <td>601.0</td>\n",
              "      <td>1527.000000</td>\n",
              "      <td>80000.0</td>\n",
              "      <td>other_code</td>\n",
              "      <td>other_city</td>\n",
              "    </tr>\n",
              "    <tr>\n",
              "      <th>2</th>\n",
              "      <td>for_sale</td>\n",
              "      <td>2.0</td>\n",
              "      <td>1.0</td>\n",
              "      <td>0.15</td>\n",
              "      <td>Juana Diaz</td>\n",
              "      <td>Puerto Rico</td>\n",
              "      <td>795.0</td>\n",
              "      <td>748.000000</td>\n",
              "      <td>67000.0</td>\n",
              "      <td>other_code</td>\n",
              "      <td>other_city</td>\n",
              "    </tr>\n",
              "    <tr>\n",
              "      <th>3</th>\n",
              "      <td>for_sale</td>\n",
              "      <td>4.0</td>\n",
              "      <td>2.0</td>\n",
              "      <td>0.10</td>\n",
              "      <td>Ponce</td>\n",
              "      <td>Puerto Rico</td>\n",
              "      <td>731.0</td>\n",
              "      <td>1800.000000</td>\n",
              "      <td>145000.0</td>\n",
              "      <td>other_code</td>\n",
              "      <td>other_city</td>\n",
              "    </tr>\n",
              "    <tr>\n",
              "      <th>4</th>\n",
              "      <td>for_sale</td>\n",
              "      <td>6.0</td>\n",
              "      <td>2.0</td>\n",
              "      <td>0.05</td>\n",
              "      <td>Mayaguez</td>\n",
              "      <td>Puerto Rico</td>\n",
              "      <td>680.0</td>\n",
              "      <td>2158.001979</td>\n",
              "      <td>65000.0</td>\n",
              "      <td>other_code</td>\n",
              "      <td>other_city</td>\n",
              "    </tr>\n",
              "  </tbody>\n",
              "</table>\n",
              "</div>\n",
              "    <div class=\"colab-df-buttons\">\n",
              "\n",
              "  <div class=\"colab-df-container\">\n",
              "    <button class=\"colab-df-convert\" onclick=\"convertToInteractive('df-da11cb1f-1e4e-42d6-89b0-a78fd569f10b')\"\n",
              "            title=\"Convert this dataframe to an interactive table.\"\n",
              "            style=\"display:none;\">\n",
              "\n",
              "  <svg xmlns=\"http://www.w3.org/2000/svg\" height=\"24px\" viewBox=\"0 -960 960 960\">\n",
              "    <path d=\"M120-120v-720h720v720H120Zm60-500h600v-160H180v160Zm220 220h160v-160H400v160Zm0 220h160v-160H400v160ZM180-400h160v-160H180v160Zm440 0h160v-160H620v160ZM180-180h160v-160H180v160Zm440 0h160v-160H620v160Z\"/>\n",
              "  </svg>\n",
              "    </button>\n",
              "\n",
              "  <style>\n",
              "    .colab-df-container {\n",
              "      display:flex;\n",
              "      gap: 12px;\n",
              "    }\n",
              "\n",
              "    .colab-df-convert {\n",
              "      background-color: #E8F0FE;\n",
              "      border: none;\n",
              "      border-radius: 50%;\n",
              "      cursor: pointer;\n",
              "      display: none;\n",
              "      fill: #1967D2;\n",
              "      height: 32px;\n",
              "      padding: 0 0 0 0;\n",
              "      width: 32px;\n",
              "    }\n",
              "\n",
              "    .colab-df-convert:hover {\n",
              "      background-color: #E2EBFA;\n",
              "      box-shadow: 0px 1px 2px rgba(60, 64, 67, 0.3), 0px 1px 3px 1px rgba(60, 64, 67, 0.15);\n",
              "      fill: #174EA6;\n",
              "    }\n",
              "\n",
              "    .colab-df-buttons div {\n",
              "      margin-bottom: 4px;\n",
              "    }\n",
              "\n",
              "    [theme=dark] .colab-df-convert {\n",
              "      background-color: #3B4455;\n",
              "      fill: #D2E3FC;\n",
              "    }\n",
              "\n",
              "    [theme=dark] .colab-df-convert:hover {\n",
              "      background-color: #434B5C;\n",
              "      box-shadow: 0px 1px 3px 1px rgba(0, 0, 0, 0.15);\n",
              "      filter: drop-shadow(0px 1px 2px rgba(0, 0, 0, 0.3));\n",
              "      fill: #FFFFFF;\n",
              "    }\n",
              "  </style>\n",
              "\n",
              "    <script>\n",
              "      const buttonEl =\n",
              "        document.querySelector('#df-da11cb1f-1e4e-42d6-89b0-a78fd569f10b button.colab-df-convert');\n",
              "      buttonEl.style.display =\n",
              "        google.colab.kernel.accessAllowed ? 'block' : 'none';\n",
              "\n",
              "      async function convertToInteractive(key) {\n",
              "        const element = document.querySelector('#df-da11cb1f-1e4e-42d6-89b0-a78fd569f10b');\n",
              "        const dataTable =\n",
              "          await google.colab.kernel.invokeFunction('convertToInteractive',\n",
              "                                                    [key], {});\n",
              "        if (!dataTable) return;\n",
              "\n",
              "        const docLinkHtml = 'Like what you see? Visit the ' +\n",
              "          '<a target=\"_blank\" href=https://colab.research.google.com/notebooks/data_table.ipynb>data table notebook</a>'\n",
              "          + ' to learn more about interactive tables.';\n",
              "        element.innerHTML = '';\n",
              "        dataTable['output_type'] = 'display_data';\n",
              "        await google.colab.output.renderOutput(dataTable, element);\n",
              "        const docLink = document.createElement('div');\n",
              "        docLink.innerHTML = docLinkHtml;\n",
              "        element.appendChild(docLink);\n",
              "      }\n",
              "    </script>\n",
              "  </div>\n",
              "\n",
              "\n",
              "<div id=\"df-37d3166e-a08a-4950-a8e3-bb1dc97e6bb6\">\n",
              "  <button class=\"colab-df-quickchart\" onclick=\"quickchart('df-37d3166e-a08a-4950-a8e3-bb1dc97e6bb6')\"\n",
              "            title=\"Suggest charts\"\n",
              "            style=\"display:none;\">\n",
              "\n",
              "<svg xmlns=\"http://www.w3.org/2000/svg\" height=\"24px\"viewBox=\"0 0 24 24\"\n",
              "     width=\"24px\">\n",
              "    <g>\n",
              "        <path d=\"M19 3H5c-1.1 0-2 .9-2 2v14c0 1.1.9 2 2 2h14c1.1 0 2-.9 2-2V5c0-1.1-.9-2-2-2zM9 17H7v-7h2v7zm4 0h-2V7h2v10zm4 0h-2v-4h2v4z\"/>\n",
              "    </g>\n",
              "</svg>\n",
              "  </button>\n",
              "\n",
              "<style>\n",
              "  .colab-df-quickchart {\n",
              "      --bg-color: #E8F0FE;\n",
              "      --fill-color: #1967D2;\n",
              "      --hover-bg-color: #E2EBFA;\n",
              "      --hover-fill-color: #174EA6;\n",
              "      --disabled-fill-color: #AAA;\n",
              "      --disabled-bg-color: #DDD;\n",
              "  }\n",
              "\n",
              "  [theme=dark] .colab-df-quickchart {\n",
              "      --bg-color: #3B4455;\n",
              "      --fill-color: #D2E3FC;\n",
              "      --hover-bg-color: #434B5C;\n",
              "      --hover-fill-color: #FFFFFF;\n",
              "      --disabled-bg-color: #3B4455;\n",
              "      --disabled-fill-color: #666;\n",
              "  }\n",
              "\n",
              "  .colab-df-quickchart {\n",
              "    background-color: var(--bg-color);\n",
              "    border: none;\n",
              "    border-radius: 50%;\n",
              "    cursor: pointer;\n",
              "    display: none;\n",
              "    fill: var(--fill-color);\n",
              "    height: 32px;\n",
              "    padding: 0;\n",
              "    width: 32px;\n",
              "  }\n",
              "\n",
              "  .colab-df-quickchart:hover {\n",
              "    background-color: var(--hover-bg-color);\n",
              "    box-shadow: 0 1px 2px rgba(60, 64, 67, 0.3), 0 1px 3px 1px rgba(60, 64, 67, 0.15);\n",
              "    fill: var(--button-hover-fill-color);\n",
              "  }\n",
              "\n",
              "  .colab-df-quickchart-complete:disabled,\n",
              "  .colab-df-quickchart-complete:disabled:hover {\n",
              "    background-color: var(--disabled-bg-color);\n",
              "    fill: var(--disabled-fill-color);\n",
              "    box-shadow: none;\n",
              "  }\n",
              "\n",
              "  .colab-df-spinner {\n",
              "    border: 2px solid var(--fill-color);\n",
              "    border-color: transparent;\n",
              "    border-bottom-color: var(--fill-color);\n",
              "    animation:\n",
              "      spin 1s steps(1) infinite;\n",
              "  }\n",
              "\n",
              "  @keyframes spin {\n",
              "    0% {\n",
              "      border-color: transparent;\n",
              "      border-bottom-color: var(--fill-color);\n",
              "      border-left-color: var(--fill-color);\n",
              "    }\n",
              "    20% {\n",
              "      border-color: transparent;\n",
              "      border-left-color: var(--fill-color);\n",
              "      border-top-color: var(--fill-color);\n",
              "    }\n",
              "    30% {\n",
              "      border-color: transparent;\n",
              "      border-left-color: var(--fill-color);\n",
              "      border-top-color: var(--fill-color);\n",
              "      border-right-color: var(--fill-color);\n",
              "    }\n",
              "    40% {\n",
              "      border-color: transparent;\n",
              "      border-right-color: var(--fill-color);\n",
              "      border-top-color: var(--fill-color);\n",
              "    }\n",
              "    60% {\n",
              "      border-color: transparent;\n",
              "      border-right-color: var(--fill-color);\n",
              "    }\n",
              "    80% {\n",
              "      border-color: transparent;\n",
              "      border-right-color: var(--fill-color);\n",
              "      border-bottom-color: var(--fill-color);\n",
              "    }\n",
              "    90% {\n",
              "      border-color: transparent;\n",
              "      border-bottom-color: var(--fill-color);\n",
              "    }\n",
              "  }\n",
              "</style>\n",
              "\n",
              "  <script>\n",
              "    async function quickchart(key) {\n",
              "      const quickchartButtonEl =\n",
              "        document.querySelector('#' + key + ' button');\n",
              "      quickchartButtonEl.disabled = true;  // To prevent multiple clicks.\n",
              "      quickchartButtonEl.classList.add('colab-df-spinner');\n",
              "      try {\n",
              "        const charts = await google.colab.kernel.invokeFunction(\n",
              "            'suggestCharts', [key], {});\n",
              "      } catch (error) {\n",
              "        console.error('Error during call to suggestCharts:', error);\n",
              "      }\n",
              "      quickchartButtonEl.classList.remove('colab-df-spinner');\n",
              "      quickchartButtonEl.classList.add('colab-df-quickchart-complete');\n",
              "    }\n",
              "    (() => {\n",
              "      let quickchartButtonEl =\n",
              "        document.querySelector('#df-37d3166e-a08a-4950-a8e3-bb1dc97e6bb6 button');\n",
              "      quickchartButtonEl.style.display =\n",
              "        google.colab.kernel.accessAllowed ? 'block' : 'none';\n",
              "    })();\n",
              "  </script>\n",
              "</div>\n",
              "\n",
              "    </div>\n",
              "  </div>\n"
            ]
          },
          "metadata": {},
          "execution_count": 21
        }
      ],
      "source": [
        "data.head()"
      ]
    },
    {
      "cell_type": "code",
      "execution_count": null,
      "metadata": {
        "id": "qw_B2zhBwd4I",
        "colab": {
          "base_uri": "https://localhost:8080/",
          "height": 206
        },
        "outputId": "f1cbe9ee-781c-430d-e24b-ed37a13076f9"
      },
      "outputs": [
        {
          "output_type": "execute_result",
          "data": {
            "text/plain": [
              "     status  bed  bath  acre_lot        state   house_size     price  \\\n",
              "0  for_sale  3.0   2.0      0.12  Puerto Rico   920.000000  105000.0   \n",
              "1  for_sale  4.0   2.0      0.08  Puerto Rico  1527.000000   80000.0   \n",
              "2  for_sale  2.0   1.0      0.15  Puerto Rico   748.000000   67000.0   \n",
              "3  for_sale  4.0   2.0      0.10  Puerto Rico  1800.000000  145000.0   \n",
              "4  for_sale  6.0   2.0      0.05  Puerto Rico  2158.001979   65000.0   \n",
              "\n",
              "  zip_code_cat    city_cat  \n",
              "0   other_code  other_city  \n",
              "1   other_code  other_city  \n",
              "2   other_code  other_city  \n",
              "3   other_code  other_city  \n",
              "4   other_code  other_city  "
            ],
            "text/html": [
              "\n",
              "  <div id=\"df-4cc5bc54-5544-4ae0-80aa-157ca0d44171\" class=\"colab-df-container\">\n",
              "    <div>\n",
              "<style scoped>\n",
              "    .dataframe tbody tr th:only-of-type {\n",
              "        vertical-align: middle;\n",
              "    }\n",
              "\n",
              "    .dataframe tbody tr th {\n",
              "        vertical-align: top;\n",
              "    }\n",
              "\n",
              "    .dataframe thead th {\n",
              "        text-align: right;\n",
              "    }\n",
              "</style>\n",
              "<table border=\"1\" class=\"dataframe\">\n",
              "  <thead>\n",
              "    <tr style=\"text-align: right;\">\n",
              "      <th></th>\n",
              "      <th>status</th>\n",
              "      <th>bed</th>\n",
              "      <th>bath</th>\n",
              "      <th>acre_lot</th>\n",
              "      <th>state</th>\n",
              "      <th>house_size</th>\n",
              "      <th>price</th>\n",
              "      <th>zip_code_cat</th>\n",
              "      <th>city_cat</th>\n",
              "    </tr>\n",
              "  </thead>\n",
              "  <tbody>\n",
              "    <tr>\n",
              "      <th>0</th>\n",
              "      <td>for_sale</td>\n",
              "      <td>3.0</td>\n",
              "      <td>2.0</td>\n",
              "      <td>0.12</td>\n",
              "      <td>Puerto Rico</td>\n",
              "      <td>920.000000</td>\n",
              "      <td>105000.0</td>\n",
              "      <td>other_code</td>\n",
              "      <td>other_city</td>\n",
              "    </tr>\n",
              "    <tr>\n",
              "      <th>1</th>\n",
              "      <td>for_sale</td>\n",
              "      <td>4.0</td>\n",
              "      <td>2.0</td>\n",
              "      <td>0.08</td>\n",
              "      <td>Puerto Rico</td>\n",
              "      <td>1527.000000</td>\n",
              "      <td>80000.0</td>\n",
              "      <td>other_code</td>\n",
              "      <td>other_city</td>\n",
              "    </tr>\n",
              "    <tr>\n",
              "      <th>2</th>\n",
              "      <td>for_sale</td>\n",
              "      <td>2.0</td>\n",
              "      <td>1.0</td>\n",
              "      <td>0.15</td>\n",
              "      <td>Puerto Rico</td>\n",
              "      <td>748.000000</td>\n",
              "      <td>67000.0</td>\n",
              "      <td>other_code</td>\n",
              "      <td>other_city</td>\n",
              "    </tr>\n",
              "    <tr>\n",
              "      <th>3</th>\n",
              "      <td>for_sale</td>\n",
              "      <td>4.0</td>\n",
              "      <td>2.0</td>\n",
              "      <td>0.10</td>\n",
              "      <td>Puerto Rico</td>\n",
              "      <td>1800.000000</td>\n",
              "      <td>145000.0</td>\n",
              "      <td>other_code</td>\n",
              "      <td>other_city</td>\n",
              "    </tr>\n",
              "    <tr>\n",
              "      <th>4</th>\n",
              "      <td>for_sale</td>\n",
              "      <td>6.0</td>\n",
              "      <td>2.0</td>\n",
              "      <td>0.05</td>\n",
              "      <td>Puerto Rico</td>\n",
              "      <td>2158.001979</td>\n",
              "      <td>65000.0</td>\n",
              "      <td>other_code</td>\n",
              "      <td>other_city</td>\n",
              "    </tr>\n",
              "  </tbody>\n",
              "</table>\n",
              "</div>\n",
              "    <div class=\"colab-df-buttons\">\n",
              "\n",
              "  <div class=\"colab-df-container\">\n",
              "    <button class=\"colab-df-convert\" onclick=\"convertToInteractive('df-4cc5bc54-5544-4ae0-80aa-157ca0d44171')\"\n",
              "            title=\"Convert this dataframe to an interactive table.\"\n",
              "            style=\"display:none;\">\n",
              "\n",
              "  <svg xmlns=\"http://www.w3.org/2000/svg\" height=\"24px\" viewBox=\"0 -960 960 960\">\n",
              "    <path d=\"M120-120v-720h720v720H120Zm60-500h600v-160H180v160Zm220 220h160v-160H400v160Zm0 220h160v-160H400v160ZM180-400h160v-160H180v160Zm440 0h160v-160H620v160ZM180-180h160v-160H180v160Zm440 0h160v-160H620v160Z\"/>\n",
              "  </svg>\n",
              "    </button>\n",
              "\n",
              "  <style>\n",
              "    .colab-df-container {\n",
              "      display:flex;\n",
              "      gap: 12px;\n",
              "    }\n",
              "\n",
              "    .colab-df-convert {\n",
              "      background-color: #E8F0FE;\n",
              "      border: none;\n",
              "      border-radius: 50%;\n",
              "      cursor: pointer;\n",
              "      display: none;\n",
              "      fill: #1967D2;\n",
              "      height: 32px;\n",
              "      padding: 0 0 0 0;\n",
              "      width: 32px;\n",
              "    }\n",
              "\n",
              "    .colab-df-convert:hover {\n",
              "      background-color: #E2EBFA;\n",
              "      box-shadow: 0px 1px 2px rgba(60, 64, 67, 0.3), 0px 1px 3px 1px rgba(60, 64, 67, 0.15);\n",
              "      fill: #174EA6;\n",
              "    }\n",
              "\n",
              "    .colab-df-buttons div {\n",
              "      margin-bottom: 4px;\n",
              "    }\n",
              "\n",
              "    [theme=dark] .colab-df-convert {\n",
              "      background-color: #3B4455;\n",
              "      fill: #D2E3FC;\n",
              "    }\n",
              "\n",
              "    [theme=dark] .colab-df-convert:hover {\n",
              "      background-color: #434B5C;\n",
              "      box-shadow: 0px 1px 3px 1px rgba(0, 0, 0, 0.15);\n",
              "      filter: drop-shadow(0px 1px 2px rgba(0, 0, 0, 0.3));\n",
              "      fill: #FFFFFF;\n",
              "    }\n",
              "  </style>\n",
              "\n",
              "    <script>\n",
              "      const buttonEl =\n",
              "        document.querySelector('#df-4cc5bc54-5544-4ae0-80aa-157ca0d44171 button.colab-df-convert');\n",
              "      buttonEl.style.display =\n",
              "        google.colab.kernel.accessAllowed ? 'block' : 'none';\n",
              "\n",
              "      async function convertToInteractive(key) {\n",
              "        const element = document.querySelector('#df-4cc5bc54-5544-4ae0-80aa-157ca0d44171');\n",
              "        const dataTable =\n",
              "          await google.colab.kernel.invokeFunction('convertToInteractive',\n",
              "                                                    [key], {});\n",
              "        if (!dataTable) return;\n",
              "\n",
              "        const docLinkHtml = 'Like what you see? Visit the ' +\n",
              "          '<a target=\"_blank\" href=https://colab.research.google.com/notebooks/data_table.ipynb>data table notebook</a>'\n",
              "          + ' to learn more about interactive tables.';\n",
              "        element.innerHTML = '';\n",
              "        dataTable['output_type'] = 'display_data';\n",
              "        await google.colab.output.renderOutput(dataTable, element);\n",
              "        const docLink = document.createElement('div');\n",
              "        docLink.innerHTML = docLinkHtml;\n",
              "        element.appendChild(docLink);\n",
              "      }\n",
              "    </script>\n",
              "  </div>\n",
              "\n",
              "\n",
              "<div id=\"df-4f8fd7d2-4835-4303-b334-7d80d81b757c\">\n",
              "  <button class=\"colab-df-quickchart\" onclick=\"quickchart('df-4f8fd7d2-4835-4303-b334-7d80d81b757c')\"\n",
              "            title=\"Suggest charts\"\n",
              "            style=\"display:none;\">\n",
              "\n",
              "<svg xmlns=\"http://www.w3.org/2000/svg\" height=\"24px\"viewBox=\"0 0 24 24\"\n",
              "     width=\"24px\">\n",
              "    <g>\n",
              "        <path d=\"M19 3H5c-1.1 0-2 .9-2 2v14c0 1.1.9 2 2 2h14c1.1 0 2-.9 2-2V5c0-1.1-.9-2-2-2zM9 17H7v-7h2v7zm4 0h-2V7h2v10zm4 0h-2v-4h2v4z\"/>\n",
              "    </g>\n",
              "</svg>\n",
              "  </button>\n",
              "\n",
              "<style>\n",
              "  .colab-df-quickchart {\n",
              "      --bg-color: #E8F0FE;\n",
              "      --fill-color: #1967D2;\n",
              "      --hover-bg-color: #E2EBFA;\n",
              "      --hover-fill-color: #174EA6;\n",
              "      --disabled-fill-color: #AAA;\n",
              "      --disabled-bg-color: #DDD;\n",
              "  }\n",
              "\n",
              "  [theme=dark] .colab-df-quickchart {\n",
              "      --bg-color: #3B4455;\n",
              "      --fill-color: #D2E3FC;\n",
              "      --hover-bg-color: #434B5C;\n",
              "      --hover-fill-color: #FFFFFF;\n",
              "      --disabled-bg-color: #3B4455;\n",
              "      --disabled-fill-color: #666;\n",
              "  }\n",
              "\n",
              "  .colab-df-quickchart {\n",
              "    background-color: var(--bg-color);\n",
              "    border: none;\n",
              "    border-radius: 50%;\n",
              "    cursor: pointer;\n",
              "    display: none;\n",
              "    fill: var(--fill-color);\n",
              "    height: 32px;\n",
              "    padding: 0;\n",
              "    width: 32px;\n",
              "  }\n",
              "\n",
              "  .colab-df-quickchart:hover {\n",
              "    background-color: var(--hover-bg-color);\n",
              "    box-shadow: 0 1px 2px rgba(60, 64, 67, 0.3), 0 1px 3px 1px rgba(60, 64, 67, 0.15);\n",
              "    fill: var(--button-hover-fill-color);\n",
              "  }\n",
              "\n",
              "  .colab-df-quickchart-complete:disabled,\n",
              "  .colab-df-quickchart-complete:disabled:hover {\n",
              "    background-color: var(--disabled-bg-color);\n",
              "    fill: var(--disabled-fill-color);\n",
              "    box-shadow: none;\n",
              "  }\n",
              "\n",
              "  .colab-df-spinner {\n",
              "    border: 2px solid var(--fill-color);\n",
              "    border-color: transparent;\n",
              "    border-bottom-color: var(--fill-color);\n",
              "    animation:\n",
              "      spin 1s steps(1) infinite;\n",
              "  }\n",
              "\n",
              "  @keyframes spin {\n",
              "    0% {\n",
              "      border-color: transparent;\n",
              "      border-bottom-color: var(--fill-color);\n",
              "      border-left-color: var(--fill-color);\n",
              "    }\n",
              "    20% {\n",
              "      border-color: transparent;\n",
              "      border-left-color: var(--fill-color);\n",
              "      border-top-color: var(--fill-color);\n",
              "    }\n",
              "    30% {\n",
              "      border-color: transparent;\n",
              "      border-left-color: var(--fill-color);\n",
              "      border-top-color: var(--fill-color);\n",
              "      border-right-color: var(--fill-color);\n",
              "    }\n",
              "    40% {\n",
              "      border-color: transparent;\n",
              "      border-right-color: var(--fill-color);\n",
              "      border-top-color: var(--fill-color);\n",
              "    }\n",
              "    60% {\n",
              "      border-color: transparent;\n",
              "      border-right-color: var(--fill-color);\n",
              "    }\n",
              "    80% {\n",
              "      border-color: transparent;\n",
              "      border-right-color: var(--fill-color);\n",
              "      border-bottom-color: var(--fill-color);\n",
              "    }\n",
              "    90% {\n",
              "      border-color: transparent;\n",
              "      border-bottom-color: var(--fill-color);\n",
              "    }\n",
              "  }\n",
              "</style>\n",
              "\n",
              "  <script>\n",
              "    async function quickchart(key) {\n",
              "      const quickchartButtonEl =\n",
              "        document.querySelector('#' + key + ' button');\n",
              "      quickchartButtonEl.disabled = true;  // To prevent multiple clicks.\n",
              "      quickchartButtonEl.classList.add('colab-df-spinner');\n",
              "      try {\n",
              "        const charts = await google.colab.kernel.invokeFunction(\n",
              "            'suggestCharts', [key], {});\n",
              "      } catch (error) {\n",
              "        console.error('Error during call to suggestCharts:', error);\n",
              "      }\n",
              "      quickchartButtonEl.classList.remove('colab-df-spinner');\n",
              "      quickchartButtonEl.classList.add('colab-df-quickchart-complete');\n",
              "    }\n",
              "    (() => {\n",
              "      let quickchartButtonEl =\n",
              "        document.querySelector('#df-4f8fd7d2-4835-4303-b334-7d80d81b757c button');\n",
              "      quickchartButtonEl.style.display =\n",
              "        google.colab.kernel.accessAllowed ? 'block' : 'none';\n",
              "    })();\n",
              "  </script>\n",
              "</div>\n",
              "\n",
              "    </div>\n",
              "  </div>\n"
            ]
          },
          "metadata": {},
          "execution_count": 22
        }
      ],
      "source": [
        "data = data.drop('city', axis = 1)\n",
        "data = data.drop('zip_code', axis = 1)\n",
        "data.head()"
      ]
    },
    {
      "cell_type": "code",
      "execution_count": null,
      "metadata": {
        "id": "fcgiXjNqw4TT",
        "colab": {
          "base_uri": "https://localhost:8080/"
        },
        "outputId": "b9c61e46-c848-4649-f0d9-44dd962b5783"
      },
      "outputs": [
        {
          "output_type": "execute_result",
          "data": {
            "text/plain": [
              "status           object\n",
              "bed             float64\n",
              "bath            float64\n",
              "acre_lot        float64\n",
              "state            object\n",
              "house_size      float64\n",
              "price           float64\n",
              "zip_code_cat     object\n",
              "city_cat         object\n",
              "dtype: object"
            ]
          },
          "metadata": {},
          "execution_count": 23
        }
      ],
      "source": [
        "data.dtypes"
      ]
    },
    {
      "cell_type": "markdown",
      "source": [
        "The third part of the process is called the data visualisation which consists of the actual viewing of the data distribution, but firstly  it is  important to get a statistical description of the dataset in order to see the dispersion of the data in the dataset, the central tendancy and the overall distribution shape. This is done through the use of the shape function as shown below which gives for each of the numerical columns the mean value, the standard deviation and a distribution of the various percentiles."
      ],
      "metadata": {
        "id": "K9uH7dZ22TdI"
      }
    },
    {
      "cell_type": "code",
      "source": [
        "data.describe()"
      ],
      "metadata": {
        "colab": {
          "base_uri": "https://localhost:8080/",
          "height": 300
        },
        "id": "a2TH-kbfuo3V",
        "outputId": "3dbfb227-74b5-4559-b046-9338372582aa"
      },
      "execution_count": null,
      "outputs": [
        {
          "output_type": "execute_result",
          "data": {
            "text/plain": [
              "                 bed           bath       acre_lot    house_size         price\n",
              "count  110044.000000  110044.000000  110044.000000  1.100440e+05  1.100440e+05\n",
              "mean        3.266348       2.444513      18.185762  2.158055e+03  9.142895e+05\n",
              "std         1.722714       1.619403     850.950375  4.876108e+03  3.456388e+06\n",
              "min         1.000000       1.000000       0.000000  1.000000e+02  0.000000e+00\n",
              "25%         2.000000       2.000000       0.150000  1.371000e+03  2.500000e+05\n",
              "50%         3.000000       2.000000       0.700000  2.158002e+03  4.499000e+05\n",
              "75%         4.000000       3.000000      18.181671  2.158002e+03  8.019950e+05\n",
              "max       123.000000     198.000000  100000.000000  1.450112e+06  8.750000e+08"
            ],
            "text/html": [
              "\n",
              "  <div id=\"df-c9349b90-f815-4aee-9a5a-ad44b10b739d\" class=\"colab-df-container\">\n",
              "    <div>\n",
              "<style scoped>\n",
              "    .dataframe tbody tr th:only-of-type {\n",
              "        vertical-align: middle;\n",
              "    }\n",
              "\n",
              "    .dataframe tbody tr th {\n",
              "        vertical-align: top;\n",
              "    }\n",
              "\n",
              "    .dataframe thead th {\n",
              "        text-align: right;\n",
              "    }\n",
              "</style>\n",
              "<table border=\"1\" class=\"dataframe\">\n",
              "  <thead>\n",
              "    <tr style=\"text-align: right;\">\n",
              "      <th></th>\n",
              "      <th>bed</th>\n",
              "      <th>bath</th>\n",
              "      <th>acre_lot</th>\n",
              "      <th>house_size</th>\n",
              "      <th>price</th>\n",
              "    </tr>\n",
              "  </thead>\n",
              "  <tbody>\n",
              "    <tr>\n",
              "      <th>count</th>\n",
              "      <td>110044.000000</td>\n",
              "      <td>110044.000000</td>\n",
              "      <td>110044.000000</td>\n",
              "      <td>1.100440e+05</td>\n",
              "      <td>1.100440e+05</td>\n",
              "    </tr>\n",
              "    <tr>\n",
              "      <th>mean</th>\n",
              "      <td>3.266348</td>\n",
              "      <td>2.444513</td>\n",
              "      <td>18.185762</td>\n",
              "      <td>2.158055e+03</td>\n",
              "      <td>9.142895e+05</td>\n",
              "    </tr>\n",
              "    <tr>\n",
              "      <th>std</th>\n",
              "      <td>1.722714</td>\n",
              "      <td>1.619403</td>\n",
              "      <td>850.950375</td>\n",
              "      <td>4.876108e+03</td>\n",
              "      <td>3.456388e+06</td>\n",
              "    </tr>\n",
              "    <tr>\n",
              "      <th>min</th>\n",
              "      <td>1.000000</td>\n",
              "      <td>1.000000</td>\n",
              "      <td>0.000000</td>\n",
              "      <td>1.000000e+02</td>\n",
              "      <td>0.000000e+00</td>\n",
              "    </tr>\n",
              "    <tr>\n",
              "      <th>25%</th>\n",
              "      <td>2.000000</td>\n",
              "      <td>2.000000</td>\n",
              "      <td>0.150000</td>\n",
              "      <td>1.371000e+03</td>\n",
              "      <td>2.500000e+05</td>\n",
              "    </tr>\n",
              "    <tr>\n",
              "      <th>50%</th>\n",
              "      <td>3.000000</td>\n",
              "      <td>2.000000</td>\n",
              "      <td>0.700000</td>\n",
              "      <td>2.158002e+03</td>\n",
              "      <td>4.499000e+05</td>\n",
              "    </tr>\n",
              "    <tr>\n",
              "      <th>75%</th>\n",
              "      <td>4.000000</td>\n",
              "      <td>3.000000</td>\n",
              "      <td>18.181671</td>\n",
              "      <td>2.158002e+03</td>\n",
              "      <td>8.019950e+05</td>\n",
              "    </tr>\n",
              "    <tr>\n",
              "      <th>max</th>\n",
              "      <td>123.000000</td>\n",
              "      <td>198.000000</td>\n",
              "      <td>100000.000000</td>\n",
              "      <td>1.450112e+06</td>\n",
              "      <td>8.750000e+08</td>\n",
              "    </tr>\n",
              "  </tbody>\n",
              "</table>\n",
              "</div>\n",
              "    <div class=\"colab-df-buttons\">\n",
              "\n",
              "  <div class=\"colab-df-container\">\n",
              "    <button class=\"colab-df-convert\" onclick=\"convertToInteractive('df-c9349b90-f815-4aee-9a5a-ad44b10b739d')\"\n",
              "            title=\"Convert this dataframe to an interactive table.\"\n",
              "            style=\"display:none;\">\n",
              "\n",
              "  <svg xmlns=\"http://www.w3.org/2000/svg\" height=\"24px\" viewBox=\"0 -960 960 960\">\n",
              "    <path d=\"M120-120v-720h720v720H120Zm60-500h600v-160H180v160Zm220 220h160v-160H400v160Zm0 220h160v-160H400v160ZM180-400h160v-160H180v160Zm440 0h160v-160H620v160ZM180-180h160v-160H180v160Zm440 0h160v-160H620v160Z\"/>\n",
              "  </svg>\n",
              "    </button>\n",
              "\n",
              "  <style>\n",
              "    .colab-df-container {\n",
              "      display:flex;\n",
              "      gap: 12px;\n",
              "    }\n",
              "\n",
              "    .colab-df-convert {\n",
              "      background-color: #E8F0FE;\n",
              "      border: none;\n",
              "      border-radius: 50%;\n",
              "      cursor: pointer;\n",
              "      display: none;\n",
              "      fill: #1967D2;\n",
              "      height: 32px;\n",
              "      padding: 0 0 0 0;\n",
              "      width: 32px;\n",
              "    }\n",
              "\n",
              "    .colab-df-convert:hover {\n",
              "      background-color: #E2EBFA;\n",
              "      box-shadow: 0px 1px 2px rgba(60, 64, 67, 0.3), 0px 1px 3px 1px rgba(60, 64, 67, 0.15);\n",
              "      fill: #174EA6;\n",
              "    }\n",
              "\n",
              "    .colab-df-buttons div {\n",
              "      margin-bottom: 4px;\n",
              "    }\n",
              "\n",
              "    [theme=dark] .colab-df-convert {\n",
              "      background-color: #3B4455;\n",
              "      fill: #D2E3FC;\n",
              "    }\n",
              "\n",
              "    [theme=dark] .colab-df-convert:hover {\n",
              "      background-color: #434B5C;\n",
              "      box-shadow: 0px 1px 3px 1px rgba(0, 0, 0, 0.15);\n",
              "      filter: drop-shadow(0px 1px 2px rgba(0, 0, 0, 0.3));\n",
              "      fill: #FFFFFF;\n",
              "    }\n",
              "  </style>\n",
              "\n",
              "    <script>\n",
              "      const buttonEl =\n",
              "        document.querySelector('#df-c9349b90-f815-4aee-9a5a-ad44b10b739d button.colab-df-convert');\n",
              "      buttonEl.style.display =\n",
              "        google.colab.kernel.accessAllowed ? 'block' : 'none';\n",
              "\n",
              "      async function convertToInteractive(key) {\n",
              "        const element = document.querySelector('#df-c9349b90-f815-4aee-9a5a-ad44b10b739d');\n",
              "        const dataTable =\n",
              "          await google.colab.kernel.invokeFunction('convertToInteractive',\n",
              "                                                    [key], {});\n",
              "        if (!dataTable) return;\n",
              "\n",
              "        const docLinkHtml = 'Like what you see? Visit the ' +\n",
              "          '<a target=\"_blank\" href=https://colab.research.google.com/notebooks/data_table.ipynb>data table notebook</a>'\n",
              "          + ' to learn more about interactive tables.';\n",
              "        element.innerHTML = '';\n",
              "        dataTable['output_type'] = 'display_data';\n",
              "        await google.colab.output.renderOutput(dataTable, element);\n",
              "        const docLink = document.createElement('div');\n",
              "        docLink.innerHTML = docLinkHtml;\n",
              "        element.appendChild(docLink);\n",
              "      }\n",
              "    </script>\n",
              "  </div>\n",
              "\n",
              "\n",
              "<div id=\"df-b93b1bb7-3ea0-4e85-bd49-312fb4738b56\">\n",
              "  <button class=\"colab-df-quickchart\" onclick=\"quickchart('df-b93b1bb7-3ea0-4e85-bd49-312fb4738b56')\"\n",
              "            title=\"Suggest charts\"\n",
              "            style=\"display:none;\">\n",
              "\n",
              "<svg xmlns=\"http://www.w3.org/2000/svg\" height=\"24px\"viewBox=\"0 0 24 24\"\n",
              "     width=\"24px\">\n",
              "    <g>\n",
              "        <path d=\"M19 3H5c-1.1 0-2 .9-2 2v14c0 1.1.9 2 2 2h14c1.1 0 2-.9 2-2V5c0-1.1-.9-2-2-2zM9 17H7v-7h2v7zm4 0h-2V7h2v10zm4 0h-2v-4h2v4z\"/>\n",
              "    </g>\n",
              "</svg>\n",
              "  </button>\n",
              "\n",
              "<style>\n",
              "  .colab-df-quickchart {\n",
              "      --bg-color: #E8F0FE;\n",
              "      --fill-color: #1967D2;\n",
              "      --hover-bg-color: #E2EBFA;\n",
              "      --hover-fill-color: #174EA6;\n",
              "      --disabled-fill-color: #AAA;\n",
              "      --disabled-bg-color: #DDD;\n",
              "  }\n",
              "\n",
              "  [theme=dark] .colab-df-quickchart {\n",
              "      --bg-color: #3B4455;\n",
              "      --fill-color: #D2E3FC;\n",
              "      --hover-bg-color: #434B5C;\n",
              "      --hover-fill-color: #FFFFFF;\n",
              "      --disabled-bg-color: #3B4455;\n",
              "      --disabled-fill-color: #666;\n",
              "  }\n",
              "\n",
              "  .colab-df-quickchart {\n",
              "    background-color: var(--bg-color);\n",
              "    border: none;\n",
              "    border-radius: 50%;\n",
              "    cursor: pointer;\n",
              "    display: none;\n",
              "    fill: var(--fill-color);\n",
              "    height: 32px;\n",
              "    padding: 0;\n",
              "    width: 32px;\n",
              "  }\n",
              "\n",
              "  .colab-df-quickchart:hover {\n",
              "    background-color: var(--hover-bg-color);\n",
              "    box-shadow: 0 1px 2px rgba(60, 64, 67, 0.3), 0 1px 3px 1px rgba(60, 64, 67, 0.15);\n",
              "    fill: var(--button-hover-fill-color);\n",
              "  }\n",
              "\n",
              "  .colab-df-quickchart-complete:disabled,\n",
              "  .colab-df-quickchart-complete:disabled:hover {\n",
              "    background-color: var(--disabled-bg-color);\n",
              "    fill: var(--disabled-fill-color);\n",
              "    box-shadow: none;\n",
              "  }\n",
              "\n",
              "  .colab-df-spinner {\n",
              "    border: 2px solid var(--fill-color);\n",
              "    border-color: transparent;\n",
              "    border-bottom-color: var(--fill-color);\n",
              "    animation:\n",
              "      spin 1s steps(1) infinite;\n",
              "  }\n",
              "\n",
              "  @keyframes spin {\n",
              "    0% {\n",
              "      border-color: transparent;\n",
              "      border-bottom-color: var(--fill-color);\n",
              "      border-left-color: var(--fill-color);\n",
              "    }\n",
              "    20% {\n",
              "      border-color: transparent;\n",
              "      border-left-color: var(--fill-color);\n",
              "      border-top-color: var(--fill-color);\n",
              "    }\n",
              "    30% {\n",
              "      border-color: transparent;\n",
              "      border-left-color: var(--fill-color);\n",
              "      border-top-color: var(--fill-color);\n",
              "      border-right-color: var(--fill-color);\n",
              "    }\n",
              "    40% {\n",
              "      border-color: transparent;\n",
              "      border-right-color: var(--fill-color);\n",
              "      border-top-color: var(--fill-color);\n",
              "    }\n",
              "    60% {\n",
              "      border-color: transparent;\n",
              "      border-right-color: var(--fill-color);\n",
              "    }\n",
              "    80% {\n",
              "      border-color: transparent;\n",
              "      border-right-color: var(--fill-color);\n",
              "      border-bottom-color: var(--fill-color);\n",
              "    }\n",
              "    90% {\n",
              "      border-color: transparent;\n",
              "      border-bottom-color: var(--fill-color);\n",
              "    }\n",
              "  }\n",
              "</style>\n",
              "\n",
              "  <script>\n",
              "    async function quickchart(key) {\n",
              "      const quickchartButtonEl =\n",
              "        document.querySelector('#' + key + ' button');\n",
              "      quickchartButtonEl.disabled = true;  // To prevent multiple clicks.\n",
              "      quickchartButtonEl.classList.add('colab-df-spinner');\n",
              "      try {\n",
              "        const charts = await google.colab.kernel.invokeFunction(\n",
              "            'suggestCharts', [key], {});\n",
              "      } catch (error) {\n",
              "        console.error('Error during call to suggestCharts:', error);\n",
              "      }\n",
              "      quickchartButtonEl.classList.remove('colab-df-spinner');\n",
              "      quickchartButtonEl.classList.add('colab-df-quickchart-complete');\n",
              "    }\n",
              "    (() => {\n",
              "      let quickchartButtonEl =\n",
              "        document.querySelector('#df-b93b1bb7-3ea0-4e85-bd49-312fb4738b56 button');\n",
              "      quickchartButtonEl.style.display =\n",
              "        google.colab.kernel.accessAllowed ? 'block' : 'none';\n",
              "    })();\n",
              "  </script>\n",
              "</div>\n",
              "\n",
              "    </div>\n",
              "  </div>\n"
            ]
          },
          "metadata": {},
          "execution_count": 24
        }
      ]
    },
    {
      "cell_type": "markdown",
      "source": [
        "As can be seen from above the first three columns of bed, bath, acre lot are fairly evenly distributed in the lower range, when we get to the maximum values it is noticed that there are very high values, this would indicate the existence of outliers that will have to be dealt with later on. After the distribution is viewed it is also necessary to view the heatmap of the dataset. This diagram represents the correlation that exists between each of the columns on a scale of zero to one where the higher the value the more the correlation between the columns and the darker the color the less the correlation."
      ],
      "metadata": {
        "id": "MPqBtM3_5Y8i"
      }
    },
    {
      "cell_type": "code",
      "source": [
        "import matplotlib.pyplot as plt\n",
        "import seaborn as sns\n",
        "\n",
        "sns.clustermap(\n",
        "    data.corr(),\n",
        "    annot=True,\n",
        "    cmap='mako',\n",
        "    figsize=(8, 8)\n",
        ")\n",
        "plt.show"
      ],
      "metadata": {
        "colab": {
          "base_uri": "https://localhost:8080/",
          "height": 883
        },
        "id": "UtLoBUNTyC2o",
        "outputId": "60e9489c-f76b-4c4b-8d83-ec9eaa9932d5"
      },
      "execution_count": null,
      "outputs": [
        {
          "output_type": "stream",
          "name": "stderr",
          "text": [
            "<ipython-input-25-2ed71b1d8386>:5: FutureWarning: The default value of numeric_only in DataFrame.corr is deprecated. In a future version, it will default to False. Select only valid columns or specify the value of numeric_only to silence this warning.\n",
            "  data.corr(),\n"
          ]
        },
        {
          "output_type": "execute_result",
          "data": {
            "text/plain": [
              "<function matplotlib.pyplot.show(close=None, block=None)>"
            ]
          },
          "metadata": {},
          "execution_count": 25
        },
        {
          "output_type": "display_data",
          "data": {
            "text/plain": [
              "<Figure size 800x800 with 4 Axes>"
            ],
            "image/png": "[encoded data removed]"
          },
          "metadata": {}
        }
      ]
    },
    {
      "cell_type": "markdown",
      "source": [
        "As can be seen, there is a correlation between  the bath and the bed a nd the house price and also a correlation between the house size and the bed a and bath but not much of a correlation between the price and the acre lot. It is also necessary to view the distribution of the dataset accross many criteria beginning with the bed as shown below showing that there is a high distribution of houses with two, three and four bed rooms, and we can see that the range of bed rooms also extends to a high number but low amount of value counts."
      ],
      "metadata": {
        "id": "B1ju5Lcl8H-C"
      }
    },
    {
      "cell_type": "code",
      "source": [
        "\n",
        "\n",
        "plt.figure(figsize=(20,10))\n",
        "ax = sns.countplot(data=data, x='bed')\n",
        "for i in ax.containers:\n",
        "  ax.bar_label(i,)\n",
        "plt.title('Distribution of Bed', fontsize=18)\n",
        "plt.show()\n",
        "\n"
      ],
      "metadata": {
        "colab": {
          "base_uri": "https://localhost:8080/",
          "height": 877
        },
        "id": "vwdu7ziw-nJW",
        "outputId": "976d2cbb-9718-46e4-bd3b-7e3244423ada"
      },
      "execution_count": null,
      "outputs": [
        {
          "output_type": "display_data",
          "data": {
            "text/plain": [
              "<Figure size 2000x1000 with 1 Axes>"
            ],
            "image/png": "[encoded data removed]"
          },
          "metadata": {}
        }
      ]
    },
    {
      "cell_type": "markdown",
      "source": [
        "A similar pattern can also be observed for the distribution of the bath as shown below with a high value in a particular range of between two and five baths and also an extended range with much lower value counts"
      ],
      "metadata": {
        "id": "xOSZDxeMDFkk"
      }
    },
    {
      "cell_type": "code",
      "source": [
        "plt.figure(figsize=(20,10))\n",
        "ax = sns.countplot(data=data, x='bath')\n",
        "for i in ax.containers:\n",
        "  ax.bar_label(i,)\n",
        "plt.title('Distribution of Bath', fontsize=18)\n",
        "plt.show()"
      ],
      "metadata": {
        "colab": {
          "base_uri": "https://localhost:8080/",
          "height": 877
        },
        "id": "MB1R8Yw0C56P",
        "outputId": "2af5238b-097c-4bfc-ee30-149ee9ea7da6"
      },
      "execution_count": null,
      "outputs": [
        {
          "output_type": "display_data",
          "data": {
            "text/plain": [
              "<Figure size 2000x1000 with 1 Axes>"
            ],
            "image/png": "[encoded data removed]"
          },
          "metadata": {}
        }
      ]
    },
    {
      "cell_type": "markdown",
      "source": [
        "At this point there exisits some categorical data colums like the city, zip code and the state, since the linear regression model only accepts numerical values, a method called dummy encoding is applied to turn all the ctaegorical columns into numeric data types by the use of the get dummies method as shown below:\n",
        "\n",
        "\n",
        "\n"
      ],
      "metadata": {
        "id": "UHQ1-MC8Lh-j"
      }
    },
    {
      "cell_type": "code",
      "execution_count": null,
      "metadata": {
        "id": "f9t5HiB6xuDI",
        "colab": {
          "base_uri": "https://localhost:8080/",
          "height": 244
        },
        "outputId": "a4923da0-a62f-4074-b225-231f1ed2beef"
      },
      "outputs": [
        {
          "output_type": "execute_result",
          "data": {
            "text/plain": [
              "   bed  bath  acre_lot   house_size     price  status_for_sale  \\\n",
              "0  3.0   2.0      0.12   920.000000  105000.0                1   \n",
              "1  4.0   2.0      0.08  1527.000000   80000.0                1   \n",
              "2  2.0   1.0      0.15   748.000000   67000.0                1   \n",
              "3  4.0   2.0      0.10  1800.000000  145000.0                1   \n",
              "4  6.0   2.0      0.05  2158.001979   65000.0                1   \n",
              "\n",
              "   status_ready_to_build  state_Connecticut  state_Delaware  state_Georgia  \\\n",
              "0                      0                  0               0              0   \n",
              "1                      0                  0               0              0   \n",
              "2                      0                  0               0              0   \n",
              "3                      0                  0               0              0   \n",
              "4                      0                  0               0              0   \n",
              "\n",
              "   state_Maine  state_Massachusetts  state_New Hampshire  state_New Jersey  \\\n",
              "0            0                    0                    0                 0   \n",
              "1            0                    0                    0                 0   \n",
              "2            0                    0                    0                 0   \n",
              "3            0                    0                    0                 0   \n",
              "4            0                    0                    0                 0   \n",
              "\n",
              "   state_New York  state_Pennsylvania  state_Puerto Rico  state_Rhode Island  \\\n",
              "0               0                   0                  1                   0   \n",
              "1               0                   0                  1                   0   \n",
              "2               0                   0                  1                   0   \n",
              "3               0                   0                  1                   0   \n",
              "4               0                   0                  1                   0   \n",
              "\n",
              "   state_South Carolina  state_Tennessee  state_Vermont  state_Virgin Islands  \\\n",
              "0                     0                0              0                     0   \n",
              "1                     0                0              0                     0   \n",
              "2                     0                0              0                     0   \n",
              "3                     0                0              0                     0   \n",
              "4                     0                0              0                     0   \n",
              "\n",
              "   state_Virginia  state_West Virginia  state_Wyoming  zip_code_cat_8226.0  \\\n",
              "0               0                    0              0                    0   \n",
              "1               0                    0              0                    0   \n",
              "2               0                    0              0                    0   \n",
              "3               0                    0              0                    0   \n",
              "4               0                    0              0                    0   \n",
              "\n",
              "   zip_code_cat_8401.0  zip_code_cat_8527.0  zip_code_cat_8831.0  \\\n",
              "0                    0                    0                    0   \n",
              "1                    0                    0                    0   \n",
              "2                    0                    0                    0   \n",
              "3                    0                    0                    0   \n",
              "4                    0                    0                    0   \n",
              "\n",
              "   zip_code_cat_10003.0  zip_code_cat_10011.0  zip_code_cat_10013.0  \\\n",
              "0                     0                     0                     0   \n",
              "1                     0                     0                     0   \n",
              "2                     0                     0                     0   \n",
              "3                     0                     0                     0   \n",
              "4                     0                     0                     0   \n",
              "\n",
              "   zip_code_cat_10016.0  zip_code_cat_10019.0  zip_code_cat_10021.0  \\\n",
              "0                     0                     0                     0   \n",
              "1                     0                     0                     0   \n",
              "2                     0                     0                     0   \n",
              "3                     0                     0                     0   \n",
              "4                     0                     0                     0   \n",
              "\n",
              "   zip_code_cat_10022.0  zip_code_cat_10023.0  zip_code_cat_10024.0  \\\n",
              "0                     0                     0                     0   \n",
              "1                     0                     0                     0   \n",
              "2                     0                     0                     0   \n",
              "3                     0                     0                     0   \n",
              "4                     0                     0                     0   \n",
              "\n",
              "   zip_code_cat_10025.0  zip_code_cat_10028.0  zip_code_cat_10065.0  \\\n",
              "0                     0                     0                     0   \n",
              "1                     0                     0                     0   \n",
              "2                     0                     0                     0   \n",
              "3                     0                     0                     0   \n",
              "4                     0                     0                     0   \n",
              "\n",
              "   zip_code_cat_10075.0  zip_code_cat_10128.0  zip_code_cat_11201.0  \\\n",
              "0                     0                     0                     0   \n",
              "1                     0                     0                     0   \n",
              "2                     0                     0                     0   \n",
              "3                     0                     0                     0   \n",
              "4                     0                     0                     0   \n",
              "\n",
              "   zip_code_cat_11235.0  zip_code_cat_other_code  city_cat_Boston  \\\n",
              "0                     0                        1                0   \n",
              "1                     0                        1                0   \n",
              "2                     0                        1                0   \n",
              "3                     0                        1                0   \n",
              "4                     0                        1                0   \n",
              "\n",
              "   city_cat_Bridgeport  city_cat_Bronx  city_cat_Brooklyn  \\\n",
              "0                    0               0                  0   \n",
              "1                    0               0                  0   \n",
              "2                    0               0                  0   \n",
              "3                    0               0                  0   \n",
              "4                    0               0                  0   \n",
              "\n",
              "   city_cat_Jersey City  city_cat_Manchester  city_cat_Manhattan  \\\n",
              "0                     0                    0                   0   \n",
              "1                     0                    0                   0   \n",
              "2                     0                    0                   0   \n",
              "3                     0                    0                   0   \n",
              "4                     0                    0                   0   \n",
              "\n",
              "   city_cat_Middletown  city_cat_New York  city_cat_New York City  \\\n",
              "0                    0                  0                       0   \n",
              "1                    0                  0                       0   \n",
              "2                    0                  0                       0   \n",
              "3                    0                  0                       0   \n",
              "4                    0                  0                       0   \n",
              "\n",
              "   city_cat_Newark  city_cat_Philadelphia  city_cat_Providence  \\\n",
              "0                0                      0                    0   \n",
              "1                0                      0                    0   \n",
              "2                0                      0                    0   \n",
              "3                0                      0                    0   \n",
              "4                0                      0                    0   \n",
              "\n",
              "   city_cat_San Juan  city_cat_Stamford  city_cat_Staten Island  \\\n",
              "0                  0                  0                       0   \n",
              "1                  0                  0                       0   \n",
              "2                  0                  0                       0   \n",
              "3                  0                  0                       0   \n",
              "4                  0                  0                       0   \n",
              "\n",
              "   city_cat_Toms River  city_cat_Trenton  city_cat_Waterbury  \\\n",
              "0                    0                 0                   0   \n",
              "1                    0                 0                   0   \n",
              "2                    0                 0                   0   \n",
              "3                    0                 0                   0   \n",
              "4                    0                 0                   0   \n",
              "\n",
              "   city_cat_Wilmington  city_cat_other_city  \n",
              "0                    0                    1  \n",
              "1                    0                    1  \n",
              "2                    0                    1  \n",
              "3                    0                    1  \n",
              "4                    0                    1  "
            ],
            "text/html": [
              "\n",
              "  <div id=\"df-8585cec7-b6b5-4f96-9ce1-83ce08e6edd6\" class=\"colab-df-container\">\n",
              "    <div>\n",
              "<style scoped>\n",
              "    .dataframe tbody tr th:only-of-type {\n",
              "        vertical-align: middle;\n",
              "    }\n",
              "\n",
              "    .dataframe tbody tr th {\n",
              "        vertical-align: top;\n",
              "    }\n",
              "\n",
              "    .dataframe thead th {\n",
              "        text-align: right;\n",
              "    }\n",
              "</style>\n",
              "<table border=\"1\" class=\"dataframe\">\n",
              "  <thead>\n",
              "    <tr style=\"text-align: right;\">\n",
              "      <th></th>\n",
              "      <th>bed</th>\n",
              "      <th>bath</th>\n",
              "      <th>acre_lot</th>\n",
              "      <th>house_size</th>\n",
              "      <th>price</th>\n",
              "      <th>status_for_sale</th>\n",
              "      <th>status_ready_to_build</th>\n",
              "      <th>state_Connecticut</th>\n",
              "      <th>state_Delaware</th>\n",
              "      <th>state_Georgia</th>\n",
              "      <th>state_Maine</th>\n",
              "      <th>state_Massachusetts</th>\n",
              "      <th>state_New Hampshire</th>\n",
              "      <th>state_New Jersey</th>\n",
              "      <th>state_New York</th>\n",
              "      <th>state_Pennsylvania</th>\n",
              "      <th>state_Puerto Rico</th>\n",
              "      <th>state_Rhode Island</th>\n",
              "      <th>state_South Carolina</th>\n",
              "      <th>state_Tennessee</th>\n",
              "      <th>state_Vermont</th>\n",
              "      <th>state_Virgin Islands</th>\n",
              "      <th>state_Virginia</th>\n",
              "      <th>state_West Virginia</th>\n",
              "      <th>state_Wyoming</th>\n",
              "      <th>zip_code_cat_8226.0</th>\n",
              "      <th>zip_code_cat_8401.0</th>\n",
              "      <th>zip_code_cat_8527.0</th>\n",
              "      <th>zip_code_cat_8831.0</th>\n",
              "      <th>zip_code_cat_10003.0</th>\n",
              "      <th>zip_code_cat_10011.0</th>\n",
              "      <th>zip_code_cat_10013.0</th>\n",
              "      <th>zip_code_cat_10016.0</th>\n",
              "      <th>zip_code_cat_10019.0</th>\n",
              "      <th>zip_code_cat_10021.0</th>\n",
              "      <th>zip_code_cat_10022.0</th>\n",
              "      <th>zip_code_cat_10023.0</th>\n",
              "      <th>zip_code_cat_10024.0</th>\n",
              "      <th>zip_code_cat_10025.0</th>\n",
              "      <th>zip_code_cat_10028.0</th>\n",
              "      <th>zip_code_cat_10065.0</th>\n",
              "      <th>zip_code_cat_10075.0</th>\n",
              "      <th>zip_code_cat_10128.0</th>\n",
              "      <th>zip_code_cat_11201.0</th>\n",
              "      <th>zip_code_cat_11235.0</th>\n",
              "      <th>zip_code_cat_other_code</th>\n",
              "      <th>city_cat_Boston</th>\n",
              "      <th>city_cat_Bridgeport</th>\n",
              "      <th>city_cat_Bronx</th>\n",
              "      <th>city_cat_Brooklyn</th>\n",
              "      <th>city_cat_Jersey City</th>\n",
              "      <th>city_cat_Manchester</th>\n",
              "      <th>city_cat_Manhattan</th>\n",
              "      <th>city_cat_Middletown</th>\n",
              "      <th>city_cat_New York</th>\n",
              "      <th>city_cat_New York City</th>\n",
              "      <th>city_cat_Newark</th>\n",
              "      <th>city_cat_Philadelphia</th>\n",
              "      <th>city_cat_Providence</th>\n",
              "      <th>city_cat_San Juan</th>\n",
              "      <th>city_cat_Stamford</th>\n",
              "      <th>city_cat_Staten Island</th>\n",
              "      <th>city_cat_Toms River</th>\n",
              "      <th>city_cat_Trenton</th>\n",
              "      <th>city_cat_Waterbury</th>\n",
              "      <th>city_cat_Wilmington</th>\n",
              "      <th>city_cat_other_city</th>\n",
              "    </tr>\n",
              "  </thead>\n",
              "  <tbody>\n",
              "    <tr>\n",
              "      <th>0</th>\n",
              "      <td>3.0</td>\n",
              "      <td>2.0</td>\n",
              "      <td>0.12</td>\n",
              "      <td>920.000000</td>\n",
              "      <td>105000.0</td>\n",
              "      <td>1</td>\n",
              "      <td>0</td>\n",
              "      <td>0</td>\n",
              "      <td>0</td>\n",
              "      <td>0</td>\n",
              "      <td>0</td>\n",
              "      <td>0</td>\n",
              "      <td>0</td>\n",
              "      <td>0</td>\n",
              "      <td>0</td>\n",
              "      <td>0</td>\n",
              "      <td>1</td>\n",
              "      <td>0</td>\n",
              "      <td>0</td>\n",
              "      <td>0</td>\n",
              "      <td>0</td>\n",
              "      <td>0</td>\n",
              "      <td>0</td>\n",
              "      <td>0</td>\n",
              "      <td>0</td>\n",
              "      <td>0</td>\n",
              "      <td>0</td>\n",
              "      <td>0</td>\n",
              "      <td>0</td>\n",
              "      <td>0</td>\n",
              "      <td>0</td>\n",
              "      <td>0</td>\n",
              "      <td>0</td>\n",
              "      <td>0</td>\n",
              "      <td>0</td>\n",
              "      <td>0</td>\n",
              "      <td>0</td>\n",
              "      <td>0</td>\n",
              "      <td>0</td>\n",
              "      <td>0</td>\n",
              "      <td>0</td>\n",
              "      <td>0</td>\n",
              "      <td>0</td>\n",
              "      <td>0</td>\n",
              "      <td>0</td>\n",
              "      <td>1</td>\n",
              "      <td>0</td>\n",
              "      <td>0</td>\n",
              "      <td>0</td>\n",
              "      <td>0</td>\n",
              "      <td>0</td>\n",
              "      <td>0</td>\n",
              "      <td>0</td>\n",
              "      <td>0</td>\n",
              "      <td>0</td>\n",
              "      <td>0</td>\n",
              "      <td>0</td>\n",
              "      <td>0</td>\n",
              "      <td>0</td>\n",
              "      <td>0</td>\n",
              "      <td>0</td>\n",
              "      <td>0</td>\n",
              "      <td>0</td>\n",
              "      <td>0</td>\n",
              "      <td>0</td>\n",
              "      <td>0</td>\n",
              "      <td>1</td>\n",
              "    </tr>\n",
              "    <tr>\n",
              "      <th>1</th>\n",
              "      <td>4.0</td>\n",
              "      <td>2.0</td>\n",
              "      <td>0.08</td>\n",
              "      <td>1527.000000</td>\n",
              "      <td>80000.0</td>\n",
              "      <td>1</td>\n",
              "      <td>0</td>\n",
              "      <td>0</td>\n",
              "      <td>0</td>\n",
              "      <td>0</td>\n",
              "      <td>0</td>\n",
              "      <td>0</td>\n",
              "      <td>0</td>\n",
              "      <td>0</td>\n",
              "      <td>0</td>\n",
              "      <td>0</td>\n",
              "      <td>1</td>\n",
              "      <td>0</td>\n",
              "      <td>0</td>\n",
              "      <td>0</td>\n",
              "      <td>0</td>\n",
              "      <td>0</td>\n",
              "      <td>0</td>\n",
              "      <td>0</td>\n",
              "      <td>0</td>\n",
              "      <td>0</td>\n",
              "      <td>0</td>\n",
              "      <td>0</td>\n",
              "      <td>0</td>\n",
              "      <td>0</td>\n",
              "      <td>0</td>\n",
              "      <td>0</td>\n",
              "      <td>0</td>\n",
              "      <td>0</td>\n",
              "      <td>0</td>\n",
              "      <td>0</td>\n",
              "      <td>0</td>\n",
              "      <td>0</td>\n",
              "      <td>0</td>\n",
              "      <td>0</td>\n",
              "      <td>0</td>\n",
              "      <td>0</td>\n",
              "      <td>0</td>\n",
              "      <td>0</td>\n",
              "      <td>0</td>\n",
              "      <td>1</td>\n",
              "      <td>0</td>\n",
              "      <td>0</td>\n",
              "      <td>0</td>\n",
              "      <td>0</td>\n",
              "      <td>0</td>\n",
              "      <td>0</td>\n",
              "      <td>0</td>\n",
              "      <td>0</td>\n",
              "      <td>0</td>\n",
              "      <td>0</td>\n",
              "      <td>0</td>\n",
              "      <td>0</td>\n",
              "      <td>0</td>\n",
              "      <td>0</td>\n",
              "      <td>0</td>\n",
              "      <td>0</td>\n",
              "      <td>0</td>\n",
              "      <td>0</td>\n",
              "      <td>0</td>\n",
              "      <td>0</td>\n",
              "      <td>1</td>\n",
              "    </tr>\n",
              "    <tr>\n",
              "      <th>2</th>\n",
              "      <td>2.0</td>\n",
              "      <td>1.0</td>\n",
              "      <td>0.15</td>\n",
              "      <td>748.000000</td>\n",
              "      <td>67000.0</td>\n",
              "      <td>1</td>\n",
              "      <td>0</td>\n",
              "      <td>0</td>\n",
              "      <td>0</td>\n",
              "      <td>0</td>\n",
              "      <td>0</td>\n",
              "      <td>0</td>\n",
              "      <td>0</td>\n",
              "      <td>0</td>\n",
              "      <td>0</td>\n",
              "      <td>0</td>\n",
              "      <td>1</td>\n",
              "      <td>0</td>\n",
              "      <td>0</td>\n",
              "      <td>0</td>\n",
              "      <td>0</td>\n",
              "      <td>0</td>\n",
              "      <td>0</td>\n",
              "      <td>0</td>\n",
              "      <td>0</td>\n",
              "      <td>0</td>\n",
              "      <td>0</td>\n",
              "      <td>0</td>\n",
              "      <td>0</td>\n",
              "      <td>0</td>\n",
              "      <td>0</td>\n",
              "      <td>0</td>\n",
              "      <td>0</td>\n",
              "      <td>0</td>\n",
              "      <td>0</td>\n",
              "      <td>0</td>\n",
              "      <td>0</td>\n",
              "      <td>0</td>\n",
              "      <td>0</td>\n",
              "      <td>0</td>\n",
              "      <td>0</td>\n",
              "      <td>0</td>\n",
              "      <td>0</td>\n",
              "      <td>0</td>\n",
              "      <td>0</td>\n",
              "      <td>1</td>\n",
              "      <td>0</td>\n",
              "      <td>0</td>\n",
              "      <td>0</td>\n",
              "      <td>0</td>\n",
              "      <td>0</td>\n",
              "      <td>0</td>\n",
              "      <td>0</td>\n",
              "      <td>0</td>\n",
              "      <td>0</td>\n",
              "      <td>0</td>\n",
              "      <td>0</td>\n",
              "      <td>0</td>\n",
              "      <td>0</td>\n",
              "      <td>0</td>\n",
              "      <td>0</td>\n",
              "      <td>0</td>\n",
              "      <td>0</td>\n",
              "      <td>0</td>\n",
              "      <td>0</td>\n",
              "      <td>0</td>\n",
              "      <td>1</td>\n",
              "    </tr>\n",
              "    <tr>\n",
              "      <th>3</th>\n",
              "      <td>4.0</td>\n",
              "      <td>2.0</td>\n",
              "      <td>0.10</td>\n",
              "      <td>1800.000000</td>\n",
              "      <td>145000.0</td>\n",
              "      <td>1</td>\n",
              "      <td>0</td>\n",
              "      <td>0</td>\n",
              "      <td>0</td>\n",
              "      <td>0</td>\n",
              "      <td>0</td>\n",
              "      <td>0</td>\n",
              "      <td>0</td>\n",
              "      <td>0</td>\n",
              "      <td>0</td>\n",
              "      <td>0</td>\n",
              "      <td>1</td>\n",
              "      <td>0</td>\n",
              "      <td>0</td>\n",
              "      <td>0</td>\n",
              "      <td>0</td>\n",
              "      <td>0</td>\n",
              "      <td>0</td>\n",
              "      <td>0</td>\n",
              "      <td>0</td>\n",
              "      <td>0</td>\n",
              "      <td>0</td>\n",
              "      <td>0</td>\n",
              "      <td>0</td>\n",
              "      <td>0</td>\n",
              "      <td>0</td>\n",
              "      <td>0</td>\n",
              "      <td>0</td>\n",
              "      <td>0</td>\n",
              "      <td>0</td>\n",
              "      <td>0</td>\n",
              "      <td>0</td>\n",
              "      <td>0</td>\n",
              "      <td>0</td>\n",
              "      <td>0</td>\n",
              "      <td>0</td>\n",
              "      <td>0</td>\n",
              "      <td>0</td>\n",
              "      <td>0</td>\n",
              "      <td>0</td>\n",
              "      <td>1</td>\n",
              "      <td>0</td>\n",
              "      <td>0</td>\n",
              "      <td>0</td>\n",
              "      <td>0</td>\n",
              "      <td>0</td>\n",
              "      <td>0</td>\n",
              "      <td>0</td>\n",
              "      <td>0</td>\n",
              "      <td>0</td>\n",
              "      <td>0</td>\n",
              "      <td>0</td>\n",
              "      <td>0</td>\n",
              "      <td>0</td>\n",
              "      <td>0</td>\n",
              "      <td>0</td>\n",
              "      <td>0</td>\n",
              "      <td>0</td>\n",
              "      <td>0</td>\n",
              "      <td>0</td>\n",
              "      <td>0</td>\n",
              "      <td>1</td>\n",
              "    </tr>\n",
              "    <tr>\n",
              "      <th>4</th>\n",
              "      <td>6.0</td>\n",
              "      <td>2.0</td>\n",
              "      <td>0.05</td>\n",
              "      <td>2158.001979</td>\n",
              "      <td>65000.0</td>\n",
              "      <td>1</td>\n",
              "      <td>0</td>\n",
              "      <td>0</td>\n",
              "      <td>0</td>\n",
              "      <td>0</td>\n",
              "      <td>0</td>\n",
              "      <td>0</td>\n",
              "      <td>0</td>\n",
              "      <td>0</td>\n",
              "      <td>0</td>\n",
              "      <td>0</td>\n",
              "      <td>1</td>\n",
              "      <td>0</td>\n",
              "      <td>0</td>\n",
              "      <td>0</td>\n",
              "      <td>0</td>\n",
              "      <td>0</td>\n",
              "      <td>0</td>\n",
              "      <td>0</td>\n",
              "      <td>0</td>\n",
              "      <td>0</td>\n",
              "      <td>0</td>\n",
              "      <td>0</td>\n",
              "      <td>0</td>\n",
              "      <td>0</td>\n",
              "      <td>0</td>\n",
              "      <td>0</td>\n",
              "      <td>0</td>\n",
              "      <td>0</td>\n",
              "      <td>0</td>\n",
              "      <td>0</td>\n",
              "      <td>0</td>\n",
              "      <td>0</td>\n",
              "      <td>0</td>\n",
              "      <td>0</td>\n",
              "      <td>0</td>\n",
              "      <td>0</td>\n",
              "      <td>0</td>\n",
              "      <td>0</td>\n",
              "      <td>0</td>\n",
              "      <td>1</td>\n",
              "      <td>0</td>\n",
              "      <td>0</td>\n",
              "      <td>0</td>\n",
              "      <td>0</td>\n",
              "      <td>0</td>\n",
              "      <td>0</td>\n",
              "      <td>0</td>\n",
              "      <td>0</td>\n",
              "      <td>0</td>\n",
              "      <td>0</td>\n",
              "      <td>0</td>\n",
              "      <td>0</td>\n",
              "      <td>0</td>\n",
              "      <td>0</td>\n",
              "      <td>0</td>\n",
              "      <td>0</td>\n",
              "      <td>0</td>\n",
              "      <td>0</td>\n",
              "      <td>0</td>\n",
              "      <td>0</td>\n",
              "      <td>1</td>\n",
              "    </tr>\n",
              "  </tbody>\n",
              "</table>\n",
              "</div>\n",
              "    <div class=\"colab-df-buttons\">\n",
              "\n",
              "  <div class=\"colab-df-container\">\n",
              "    <button class=\"colab-df-convert\" onclick=\"convertToInteractive('df-8585cec7-b6b5-4f96-9ce1-83ce08e6edd6')\"\n",
              "            title=\"Convert this dataframe to an interactive table.\"\n",
              "            style=\"display:none;\">\n",
              "\n",
              "  <svg xmlns=\"http://www.w3.org/2000/svg\" height=\"24px\" viewBox=\"0 -960 960 960\">\n",
              "    <path d=\"M120-120v-720h720v720H120Zm60-500h600v-160H180v160Zm220 220h160v-160H400v160Zm0 220h160v-160H400v160ZM180-400h160v-160H180v160Zm440 0h160v-160H620v160ZM180-180h160v-160H180v160Zm440 0h160v-160H620v160Z\"/>\n",
              "  </svg>\n",
              "    </button>\n",
              "\n",
              "  <style>\n",
              "    .colab-df-container {\n",
              "      display:flex;\n",
              "      gap: 12px;\n",
              "    }\n",
              "\n",
              "    .colab-df-convert {\n",
              "      background-color: #E8F0FE;\n",
              "      border: none;\n",
              "      border-radius: 50%;\n",
              "      cursor: pointer;\n",
              "      display: none;\n",
              "      fill: #1967D2;\n",
              "      height: 32px;\n",
              "      padding: 0 0 0 0;\n",
              "      width: 32px;\n",
              "    }\n",
              "\n",
              "    .colab-df-convert:hover {\n",
              "      background-color: #E2EBFA;\n",
              "      box-shadow: 0px 1px 2px rgba(60, 64, 67, 0.3), 0px 1px 3px 1px rgba(60, 64, 67, 0.15);\n",
              "      fill: #174EA6;\n",
              "    }\n",
              "\n",
              "    .colab-df-buttons div {\n",
              "      margin-bottom: 4px;\n",
              "    }\n",
              "\n",
              "    [theme=dark] .colab-df-convert {\n",
              "      background-color: #3B4455;\n",
              "      fill: #D2E3FC;\n",
              "    }\n",
              "\n",
              "    [theme=dark] .colab-df-convert:hover {\n",
              "      background-color: #434B5C;\n",
              "      box-shadow: 0px 1px 3px 1px rgba(0, 0, 0, 0.15);\n",
              "      filter: drop-shadow(0px 1px 2px rgba(0, 0, 0, 0.3));\n",
              "      fill: #FFFFFF;\n",
              "    }\n",
              "  </style>\n",
              "\n",
              "    <script>\n",
              "      const buttonEl =\n",
              "        document.querySelector('#df-8585cec7-b6b5-4f96-9ce1-83ce08e6edd6 button.colab-df-convert');\n",
              "      buttonEl.style.display =\n",
              "        google.colab.kernel.accessAllowed ? 'block' : 'none';\n",
              "\n",
              "      async function convertToInteractive(key) {\n",
              "        const element = document.querySelector('#df-8585cec7-b6b5-4f96-9ce1-83ce08e6edd6');\n",
              "        const dataTable =\n",
              "          await google.colab.kernel.invokeFunction('convertToInteractive',\n",
              "                                                    [key], {});\n",
              "        if (!dataTable) return;\n",
              "\n",
              "        const docLinkHtml = 'Like what you see? Visit the ' +\n",
              "          '<a target=\"_blank\" href=https://colab.research.google.com/notebooks/data_table.ipynb>data table notebook</a>'\n",
              "          + ' to learn more about interactive tables.';\n",
              "        element.innerHTML = '';\n",
              "        dataTable['output_type'] = 'display_data';\n",
              "        await google.colab.output.renderOutput(dataTable, element);\n",
              "        const docLink = document.createElement('div');\n",
              "        docLink.innerHTML = docLinkHtml;\n",
              "        element.appendChild(docLink);\n",
              "      }\n",
              "    </script>\n",
              "  </div>\n",
              "\n",
              "\n",
              "<div id=\"df-cb29f6d7-2a12-4bff-a207-9517ed223010\">\n",
              "  <button class=\"colab-df-quickchart\" onclick=\"quickchart('df-cb29f6d7-2a12-4bff-a207-9517ed223010')\"\n",
              "            title=\"Suggest charts\"\n",
              "            style=\"display:none;\">\n",
              "\n",
              "<svg xmlns=\"http://www.w3.org/2000/svg\" height=\"24px\"viewBox=\"0 0 24 24\"\n",
              "     width=\"24px\">\n",
              "    <g>\n",
              "        <path d=\"M19 3H5c-1.1 0-2 .9-2 2v14c0 1.1.9 2 2 2h14c1.1 0 2-.9 2-2V5c0-1.1-.9-2-2-2zM9 17H7v-7h2v7zm4 0h-2V7h2v10zm4 0h-2v-4h2v4z\"/>\n",
              "    </g>\n",
              "</svg>\n",
              "  </button>\n",
              "\n",
              "<style>\n",
              "  .colab-df-quickchart {\n",
              "      --bg-color: #E8F0FE;\n",
              "      --fill-color: #1967D2;\n",
              "      --hover-bg-color: #E2EBFA;\n",
              "      --hover-fill-color: #174EA6;\n",
              "      --disabled-fill-color: #AAA;\n",
              "      --disabled-bg-color: #DDD;\n",
              "  }\n",
              "\n",
              "  [theme=dark] .colab-df-quickchart {\n",
              "      --bg-color: #3B4455;\n",
              "      --fill-color: #D2E3FC;\n",
              "      --hover-bg-color: #434B5C;\n",
              "      --hover-fill-color: #FFFFFF;\n",
              "      --disabled-bg-color: #3B4455;\n",
              "      --disabled-fill-color: #666;\n",
              "  }\n",
              "\n",
              "  .colab-df-quickchart {\n",
              "    background-color: var(--bg-color);\n",
              "    border: none;\n",
              "    border-radius: 50%;\n",
              "    cursor: pointer;\n",
              "    display: none;\n",
              "    fill: var(--fill-color);\n",
              "    height: 32px;\n",
              "    padding: 0;\n",
              "    width: 32px;\n",
              "  }\n",
              "\n",
              "  .colab-df-quickchart:hover {\n",
              "    background-color: var(--hover-bg-color);\n",
              "    box-shadow: 0 1px 2px rgba(60, 64, 67, 0.3), 0 1px 3px 1px rgba(60, 64, 67, 0.15);\n",
              "    fill: var(--button-hover-fill-color);\n",
              "  }\n",
              "\n",
              "  .colab-df-quickchart-complete:disabled,\n",
              "  .colab-df-quickchart-complete:disabled:hover {\n",
              "    background-color: var(--disabled-bg-color);\n",
              "    fill: var(--disabled-fill-color);\n",
              "    box-shadow: none;\n",
              "  }\n",
              "\n",
              "  .colab-df-spinner {\n",
              "    border: 2px solid var(--fill-color);\n",
              "    border-color: transparent;\n",
              "    border-bottom-color: var(--fill-color);\n",
              "    animation:\n",
              "      spin 1s steps(1) infinite;\n",
              "  }\n",
              "\n",
              "  @keyframes spin {\n",
              "    0% {\n",
              "      border-color: transparent;\n",
              "      border-bottom-color: var(--fill-color);\n",
              "      border-left-color: var(--fill-color);\n",
              "    }\n",
              "    20% {\n",
              "      border-color: transparent;\n",
              "      border-left-color: var(--fill-color);\n",
              "      border-top-color: var(--fill-color);\n",
              "    }\n",
              "    30% {\n",
              "      border-color: transparent;\n",
              "      border-left-color: var(--fill-color);\n",
              "      border-top-color: var(--fill-color);\n",
              "      border-right-color: var(--fill-color);\n",
              "    }\n",
              "    40% {\n",
              "      border-color: transparent;\n",
              "      border-right-color: var(--fill-color);\n",
              "      border-top-color: var(--fill-color);\n",
              "    }\n",
              "    60% {\n",
              "      border-color: transparent;\n",
              "      border-right-color: var(--fill-color);\n",
              "    }\n",
              "    80% {\n",
              "      border-color: transparent;\n",
              "      border-right-color: var(--fill-color);\n",
              "      border-bottom-color: var(--fill-color);\n",
              "    }\n",
              "    90% {\n",
              "      border-color: transparent;\n",
              "      border-bottom-color: var(--fill-color);\n",
              "    }\n",
              "  }\n",
              "</style>\n",
              "\n",
              "  <script>\n",
              "    async function quickchart(key) {\n",
              "      const quickchartButtonEl =\n",
              "        document.querySelector('#' + key + ' button');\n",
              "      quickchartButtonEl.disabled = true;  // To prevent multiple clicks.\n",
              "      quickchartButtonEl.classList.add('colab-df-spinner');\n",
              "      try {\n",
              "        const charts = await google.colab.kernel.invokeFunction(\n",
              "            'suggestCharts', [key], {});\n",
              "      } catch (error) {\n",
              "        console.error('Error during call to suggestCharts:', error);\n",
              "      }\n",
              "      quickchartButtonEl.classList.remove('colab-df-spinner');\n",
              "      quickchartButtonEl.classList.add('colab-df-quickchart-complete');\n",
              "    }\n",
              "    (() => {\n",
              "      let quickchartButtonEl =\n",
              "        document.querySelector('#df-cb29f6d7-2a12-4bff-a207-9517ed223010 button');\n",
              "      quickchartButtonEl.style.display =\n",
              "        google.colab.kernel.accessAllowed ? 'block' : 'none';\n",
              "    })();\n",
              "  </script>\n",
              "</div>\n",
              "\n",
              "    </div>\n",
              "  </div>\n"
            ]
          },
          "metadata": {},
          "execution_count": 28
        }
      ],
      "source": [
        "for col in data.dtypes[data.dtypes == 'object'].index:\n",
        "  for_dummy = data.pop(col)\n",
        "  data = pd.concat([data, pd.get_dummies(for_dummy, prefix=col)], axis=1)\n",
        "pd.set_option('display.max_columns', None)\n",
        "data.head()"
      ]
    },
    {
      "cell_type": "markdown",
      "source": [
        "After the dummy encoding it is also important to view the dimensions of the resulting dataset as shown below:"
      ],
      "metadata": {
        "id": "yebekZBJed4V"
      }
    },
    {
      "cell_type": "code",
      "source": [
        "data.shape"
      ],
      "metadata": {
        "colab": {
          "base_uri": "https://localhost:8080/"
        },
        "id": "N6xQC2xdet9E",
        "outputId": "0e552ed4-9ce0-4f01-b719-1e739f5d23b3"
      },
      "execution_count": null,
      "outputs": [
        {
          "output_type": "execute_result",
          "data": {
            "text/plain": [
              "(110044, 67)"
            ]
          },
          "metadata": {},
          "execution_count": 29
        }
      ]
    },
    {
      "cell_type": "markdown",
      "source": [
        "As can be seen above the dartaset has now been expanded by the get dummies method and now has sixty seven columns."
      ],
      "metadata": {
        "id": "_B3_MpH2e0dV"
      }
    },
    {
      "cell_type": "markdown",
      "source": [
        "The next stage in the process is to remove all the outliers that were first noticed in the data description process. In order to do this the values for the first quantile(or the twenty fifth percentile) and the third quantile (or the seventy fifth percentile) as shown below:"
      ],
      "metadata": {
        "id": "Hl7jBdyhfeX2"
      }
    },
    {
      "cell_type": "code",
      "execution_count": null,
      "metadata": {
        "id": "YXarGwvHYqSN",
        "colab": {
          "base_uri": "https://localhost:8080/"
        },
        "outputId": "16f109bc-6868-43ec-9d3c-c8edae9ac99e"
      },
      "outputs": [
        {
          "output_type": "execute_result",
          "data": {
            "text/plain": [
              "(250000.0, 801995.0)"
            ]
          },
          "metadata": {},
          "execution_count": 30
        }
      ],
      "source": [
        "Q1 = data.price.quantile(0.25)\n",
        "Q3 = data.price.quantile(0.75)\n",
        "Q1, Q3\n",
        "\n"
      ]
    },
    {
      "cell_type": "markdown",
      "source": [
        "From the values that are obtained for the first and the third quantile, a value called the inter quantile range is calculated which is just the difference between the upper limit and the lower limit. With this value, the lower limit and the higher limit for acceptable values can then be calculated from the dataset:"
      ],
      "metadata": {
        "id": "mul4ePx6gyJS"
      }
    },
    {
      "cell_type": "markdown",
      "source": [],
      "metadata": {
        "id": "NUwuhP6pebo4"
      }
    },
    {
      "cell_type": "code",
      "execution_count": null,
      "metadata": {
        "id": "pG0WpJNXec2N",
        "colab": {
          "base_uri": "https://localhost:8080/"
        },
        "outputId": "d71d7c93-03d8-40de-91b9-a31bd000869a"
      },
      "outputs": [
        {
          "output_type": "execute_result",
          "data": {
            "text/plain": [
              "551995.0"
            ]
          },
          "metadata": {},
          "execution_count": 31
        }
      ],
      "source": [
        "IQR = Q3 -Q1\n",
        "IQR"
      ]
    },
    {
      "cell_type": "code",
      "execution_count": null,
      "metadata": {
        "id": "MHjsmWZpbs6R",
        "colab": {
          "base_uri": "https://localhost:8080/"
        },
        "outputId": "ff040d08-dd7f-443b-fbfa-76c8df82ccf7"
      },
      "outputs": [
        {
          "output_type": "execute_result",
          "data": {
            "text/plain": [
              "(-577992.5, 1629987.5)"
            ]
          },
          "metadata": {},
          "execution_count": 32
        }
      ],
      "source": [
        "\n",
        "lower_limit = Q1 - (1.5 * IQR)\n",
        "upper_limit = Q3 + (1.5 *IQR)\n",
        "lower_limit, upper_limit"
      ]
    },
    {
      "cell_type": "markdown",
      "source": [
        "Since the lower limit gives a negative value, then in this it will be assumed that only the higher values in the data set will contain the outliers and hence only values beyond the upper limit will be removed as follows:"
      ],
      "metadata": {
        "id": "ryMpzB_rjhhs"
      }
    },
    {
      "cell_type": "code",
      "execution_count": null,
      "metadata": {
        "id": "RlyGUAbZaF0q"
      },
      "outputs": [],
      "source": [
        "data_no_outlier = data[data.price < upper_limit]"
      ]
    },
    {
      "cell_type": "markdown",
      "source": [
        "After the removal of the outliers, what now remains is the separating of the dataset into the dependent variables which in this case is the price column and the independent variables which are the rest of the columns as follows"
      ],
      "metadata": {
        "id": "3eGRSo9iklr0"
      }
    },
    {
      "cell_type": "code",
      "execution_count": null,
      "metadata": {
        "id": "-ol4HFRhzmxS",
        "colab": {
          "base_uri": "https://localhost:8080/"
        },
        "outputId": "72620110-ba53-469f-c52b-0eea9aceec0e"
      },
      "outputs": [
        {
          "output_type": "execute_result",
          "data": {
            "text/plain": [
              "((98406, 66), (98406,))"
            ]
          },
          "metadata": {},
          "execution_count": 34
        }
      ],
      "source": [
        "X = data_no_outlier.drop('price', axis=1)\n",
        "y = data_no_outlier['price']\n",
        "X.shape, y.shape"
      ]
    },
    {
      "cell_type": "markdown",
      "source": [
        "After the separation of the data what now remains is the splitting of the data into the training set, that will be used to train the regression mdel and the testing set that will be used to determine the accuracy of the model, this is done on the ratio of eighty percent training set to twenty percent testing set and also a random state parameter is set of forty two. After this is done the dimensions of the new datasets are also viewed just to make sure and also some maths cam be carried out to verify that the ratio of the number of rows between the training set and the test set is indeed eighty percent to twenty per cent."
      ],
      "metadata": {
        "id": "ofUy2BDamXSt"
      }
    },
    {
      "cell_type": "code",
      "execution_count": null,
      "metadata": {
        "id": "5e9V6P820nUN",
        "colab": {
          "base_uri": "https://localhost:8080/"
        },
        "outputId": "d58816f9-89bb-47cd-b30c-fa79e53433e9"
      },
      "outputs": [
        {
          "output_type": "stream",
          "name": "stdout",
          "text": [
            "Training Set Shape: (78724, 66) (78724,)\n",
            "Testing Set Shape: (19682, 66) (19682,)\n"
          ]
        }
      ],
      "source": [
        "from sklearn.model_selection import train_test_split\n",
        "X_train, X_test, y_train, y_test = train_test_split(X, y, test_size=0.2, random_state=42)\n",
        "print('Training Set Shape:', X_train.shape, y_train.shape)\n",
        "print('Testing Set Shape:', X_test.shape, y_test.shape)"
      ]
    },
    {
      "cell_type": "markdown",
      "source": [
        "After the dataset is split the final step is to now to fit the linear regression model through the importing of the linear regression function from the 'sklearn' library. After the model has been fit, a new dataset called \"y_ped\" is created wich will contain dataset of price predictions based on the test dataset of \"X_test\" predictor variables obtained from the split. After this dataset is created, the shape or the dimensions is also checked to see if it fall within the expected range of which it does in accordance with the test shape."
      ],
      "metadata": {
        "id": "owV336qCxlBm"
      }
    },
    {
      "cell_type": "code",
      "execution_count": null,
      "metadata": {
        "colab": {
          "base_uri": "https://localhost:8080/"
        },
        "id": "sxbp62e907OQ",
        "outputId": "5f51ff6c-b4ae-4b26-b3fe-903852353702"
      },
      "outputs": [
        {
          "output_type": "execute_result",
          "data": {
            "text/plain": [
              "(19682,)"
            ]
          },
          "metadata": {},
          "execution_count": 36
        }
      ],
      "source": [
        "from sklearn.linear_model import LinearRegression\n",
        "lr = LinearRegression()\n",
        "lr.fit(X_train, y_train)\n",
        "y_pred = lr.predict(X_test)\n",
        "y_pred.shape\n"
      ]
    },
    {
      "cell_type": "markdown",
      "source": [
        "After predicting the values on the test data, what now remains is to get the various metrics on the model like the R2 Score which  is a statistical measure that represents the proportion of the variance in the dependent variable (the target) that is explained by the independent variables in a regression model. The Mean Squared Error (MSE) which is a metric used to measure the average squared difference between the predicted values and the actual values in a set of data and lastly the mean absolute error which is   the average absolute difference between the predicted values and the actual values.Finally a view of  the coeficients is also obtained which represents the relationship between the different dependant variables and the independent variable and also the intercept which is the starting point of the regression line, that is what the price is without considering any of the variables."
      ],
      "metadata": {
        "id": "lZv0Ngf116TV"
      }
    },
    {
      "cell_type": "code",
      "execution_count": null,
      "metadata": {
        "colab": {
          "base_uri": "https://localhost:8080/"
        },
        "id": "EXVnwiwD6s7Q",
        "outputId": "27f29b3e-47e1-4059-fc86-ca6fef206148"
      },
      "outputs": [
        {
          "output_type": "stream",
          "name": "stdout",
          "text": [
            "Intercept: 345922.12\n",
            "R2 Score: 0.4177698101078704\n",
            "Mean Squared Error: 69248870473.21692\n",
            "Mean Absolute Error: 193256.2379107165\n",
            "Intercept: 345922.1225590375\n",
            "Coefficient: -652.33\n",
            "Coefficient: 162234.10\n",
            "Coefficient: -0.04\n",
            "Coefficient: 5.24\n",
            "Coefficient: -200168.09\n",
            "Coefficient: 200168.09\n",
            "Coefficient: 16985.30\n",
            "Coefficient: -2704.93\n",
            "Coefficient: -85267.72\n",
            "Coefficient: -69665.80\n",
            "Coefficient: 174238.86\n",
            "Coefficient: 26868.63\n",
            "Coefficient: 84566.53\n",
            "Coefficient: 209245.52\n",
            "Coefficient: 10936.60\n",
            "Coefficient: -106259.53\n",
            "Coefficient: 100657.08\n",
            "Coefficient: -306001.05\n",
            "Coefficient: -290051.76\n",
            "Coefficient: -34226.30\n",
            "Coefficient: -8922.82\n",
            "Coefficient: 230619.75\n",
            "Coefficient: 0.00\n",
            "Coefficient: 48981.64\n",
            "Coefficient: 363551.23\n",
            "Coefficient: -233010.21\n",
            "Coefficient: 1814.88\n",
            "Coefficient: -88828.30\n",
            "Coefficient: 92109.94\n",
            "Coefficient: 53546.01\n",
            "Coefficient: 352067.61\n",
            "Coefficient: -40344.96\n",
            "Coefficient: 16283.57\n",
            "Coefficient: -40661.41\n",
            "Coefficient: -135642.27\n",
            "Coefficient: 22365.67\n",
            "Coefficient: 15647.62\n",
            "Coefficient: 3465.03\n",
            "Coefficient: -86823.62\n",
            "Coefficient: -49704.52\n",
            "Coefficient: -55020.06\n",
            "Coefficient: -8107.57\n",
            "Coefficient: 104548.71\n",
            "Coefficient: -220908.39\n",
            "Coefficient: -66348.96\n",
            "Coefficient: 283548.67\n",
            "Coefficient: -143908.21\n",
            "Coefficient: -83214.11\n",
            "Coefficient: 181302.40\n",
            "Coefficient: 196785.29\n",
            "Coefficient: -138248.82\n",
            "Coefficient: 307697.68\n",
            "Coefficient: -84671.06\n",
            "Coefficient: 305604.83\n",
            "Coefficient: 296465.99\n",
            "Coefficient: -208660.55\n",
            "Coefficient: -85039.25\n",
            "Coefficient: -174888.48\n",
            "Coefficient: 80725.76\n",
            "Coefficient: 70914.11\n",
            "Coefficient: 7357.58\n",
            "Coefficient: -96258.78\n",
            "Coefficient: -265875.35\n",
            "Coefficient: -230958.53\n",
            "Coefficient: -130416.46\n",
            "Coefficient: -88262.70\n"
          ]
        }
      ],
      "source": [
        "from sklearn.metrics import r2_score, mean_squared_error, mean_absolute_error\n",
        "r2 = r2_score(y_test, y_pred)\n",
        "mse = mean_squared_error(y_test, y_pred)\n",
        "mae = mean_absolute_error(y_test, y_pred)\n",
        "intercept = lr.intercept_\n",
        "print('Intercept: %.2f' %  intercept)\n",
        "print(\"R2 Score:\", r2)\n",
        "print(\"Mean Squared Error:\", mse)\n",
        "print(\"Mean Absolute Error:\", mae)\n",
        "print(\"Intercept:\", intercept)\n",
        "for coeficient in lr.coef_:\n",
        "    print('Coefficient: %.2f' %  coeficient)"
      ]
    },
    {
      "cell_type": "markdown",
      "source": [
        "**RESULTS**\n",
        "\n",
        "From the results it is shown that the model has an R 2 score of 0.42 or forty two percent. This mens that means that forty two per cent of the variability in the response variable is explained by the model, and the remaining fifty eight percent is unexplained. The other two values are numeric values that shows the difference between the predicted values and the actual values which in our case shows a figure of one hundred and ninety three thousand, two hundred and fifty six as the mean avaredge error which is the avaredge difference between the two values. On the other hand the mean squared error also shows a value for the avaredge squared value of the differences between the two values. lastly we also have a numeric value for the intercepts and the coeficients."
      ],
      "metadata": {
        "id": "M3fC3mYVRuBG"
      }
    },
    {
      "cell_type": "markdown",
      "source": [
        "The next step is to make a plot of the predicted values against the actual valued to see if there is any correlation btween the two datasets."
      ],
      "metadata": {
        "id": "zk6gSu2QaGz3"
      }
    },
    {
      "cell_type": "code",
      "source": [
        "import matplotlib.pyplot as plt\n",
        "\n",
        "plt.scatter(y_test, y_pred, alpha=0.5)\n",
        "plt.plot([y.min(), y.max()], [y.min(), y.max()], color='red')\n",
        "plt.xlabel('Actual Values')\n",
        "plt.ylabel('Predicted Values')\n",
        "plt.title('Plot Of Actual Against Predicted Values')\n",
        "plt.show()\n"
      ],
      "metadata": {
        "colab": {
          "base_uri": "https://localhost:8080/",
          "height": 472
        },
        "id": "IRTxeoIUeWsD",
        "outputId": "e895d7cb-fd29-49f3-d08c-81b1f5253765"
      },
      "execution_count": null,
      "outputs": [
        {
          "output_type": "display_data",
          "data": {
            "text/plain": [
              "<Figure size 640x480 with 1 Axes>"
            ],
            "image/png": "[encoded data removed]"
          },
          "metadata": {}
        }
      ]
    },
    {
      "cell_type": "markdown",
      "source": [
        "as can be seen the values shows a gradual trend of moving upwards in accordance with the line and with the exception of a few extreme values, the ponts are not generally scattered about which is a good scenario for a linear regression model."
      ],
      "metadata": {
        "id": "xnJ27w-0ioor"
      }
    },
    {
      "cell_type": "markdown",
      "source": [
        "Next up is a plot of the residuals against the predicted values to also check the quality of the models."
      ],
      "metadata": {
        "id": "IjQXzDeqjmCV"
      }
    },
    {
      "cell_type": "code",
      "source": [
        "plt.scatter(y_pred, y_test - y_pred, alpha=0.5)\n",
        "plt.xlabel('Predicted Values')\n",
        "plt.ylabel('Residual Values')\n",
        "plt.title('Residual Plot')\n",
        "plt.show()\n"
      ],
      "metadata": {
        "colab": {
          "base_uri": "https://localhost:8080/",
          "height": 472
        },
        "id": "0XNHYO7nksJz",
        "outputId": "c87ba51a-0b79-4242-8923-3cfecb961856"
      },
      "execution_count": null,
      "outputs": [
        {
          "output_type": "display_data",
          "data": {
            "text/plain": [
              "<Figure size 640x480 with 1 Axes>"
            ],
            "image/png": "[encoded data removed]"
          },
          "metadata": {}
        }
      ]
    },
    {
      "cell_type": "markdown",
      "source": [
        "As can be seen from the plot shows a somewhat random dispersion around the zero mark indicating no visible trend which is also a good indicator for a linear regression model"
      ],
      "metadata": {
        "id": "w-YnMN9vmiZ7"
      }
    },
    {
      "cell_type": "markdown",
      "source": [],
      "metadata": {
        "id": "lADc1SaiYreX"
      }
    },
    {
      "cell_type": "markdown",
      "source": [
        "After the model has been trained the last part of the this stage is the actual packaging of the regression model  through the use of the pickle library into a file called finalized model that is stored for later use."
      ],
      "metadata": {
        "id": "iHqmTE-yYtaz"
      }
    },
    {
      "cell_type": "code",
      "source": [
        "import pickle\n",
        "filename = 'finalized_model.sav'\n",
        "pickle.dump(lr, open(filename, 'wb'))"
      ],
      "metadata": {
        "id": "tqrSG0Ht-JTW"
      },
      "execution_count": null,
      "outputs": []
    },
    {
      "cell_type": "code",
      "source": [
        "from google.colab import files\n",
        "files.download('finalized_model.sav')"
      ],
      "metadata": {
        "colab": {
          "base_uri": "https://localhost:8080/",
          "height": 17
        },
        "id": "o4BesQzyCwLb",
        "outputId": "0065ed1f-f9b1-49f5-b976-5bcdb0577a3e"
      },
      "execution_count": null,
      "outputs": [
        {
          "output_type": "display_data",
          "data": {
            "text/plain": [
              "<IPython.core.display.Javascript object>"
            ],
            "application/javascript": [
              "\n",
              "    async function download(id, filename, size) {\n",
              "      if (!google.colab.kernel.accessAllowed) {\n",
              "        return;\n",
              "      }\n",
              "      const div = document.createElement('div');\n",
              "      const label = document.createElement('label');\n",
              "      label.textContent = `Downloading \"${filename}\": `;\n",
              "      div.appendChild(label);\n",
              "      const progress = document.createElement('progress');\n",
              "      progress.max = size;\n",
              "      div.appendChild(progress);\n",
              "      document.body.appendChild(div);\n",
              "\n",
              "      const buffers = [];\n",
              "      let downloaded = 0;\n",
              "\n",
              "      const channel = await google.colab.kernel.comms.open(id);\n",
              "      // Send a message to notify the kernel that we're ready.\n",
              "      channel.send({})\n",
              "\n",
              "      for await (const message of channel.messages) {\n",
              "        // Send a message to notify the kernel that we're ready.\n",
              "        channel.send({})\n",
              "        if (message.buffers) {\n",
              "          for (const buffer of message.buffers) {\n",
              "            buffers.push(buffer);\n",
              "            downloaded += buffer.byteLength;\n",
              "            progress.value = downloaded;\n",
              "          }\n",
              "        }\n",
              "      }\n",
              "      const blob = new Blob(buffers, {type: 'application/binary'});\n",
              "      const a = document.createElement('a');\n",
              "      a.href = window.URL.createObjectURL(blob);\n",
              "      a.download = filename;\n",
              "      div.appendChild(a);\n",
              "      a.click();\n",
              "      div.remove();\n",
              "    }\n",
              "  "
            ]
          },
          "metadata": {}
        },
        {
          "output_type": "display_data",
          "data": {
            "text/plain": [
              "<IPython.core.display.Javascript object>"
            ],
            "application/javascript": [
              "download(\"download_a8b0f165-cfe7-4a6e-bffd-15df4e5b0a4b\", \"finalized_model.sav\", 2902)"
            ]
          },
          "metadata": {}
        }
      ]
    }
  ],
  "metadata": {
    "colab": {
      "provenance": []
    },
    "kernelspec": {
      "display_name": "Python 3",
      "name": "python3"
    },
    "language_info": {
      "name": "python"
    }
  },
  "nbformat": 4,
  "nbformat_minor": 0
}